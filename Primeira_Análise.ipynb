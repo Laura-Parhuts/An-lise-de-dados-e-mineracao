{
  "nbformat": 4,
  "nbformat_minor": 0,
  "metadata": {
    "colab": {
      "provenance": [],
      "authorship_tag": "ABX9TyN0sYCuRXQqFWX7Mxva7a1/",
      "include_colab_link": true
    },
    "kernelspec": {
      "name": "python3",
      "display_name": "Python 3"
    },
    "language_info": {
      "name": "python"
    }
  },
  "cells": [
    {
      "cell_type": "markdown",
      "metadata": {
        "id": "view-in-github",
        "colab_type": "text"
      },
      "source": [
        "<a href=\"https://colab.research.google.com/github/Laura-Parhuts/Analise-de-dados-e-mineracao/blob/main/Primeira_An%C3%A1lise.ipynb\" target=\"_parent\"><img src=\"https://colab.research.google.com/assets/colab-badge.svg\" alt=\"Open In Colab\"/></a>"
      ]
    },
    {
      "cell_type": "markdown",
      "source": [
        "# Prática 1 - Dados de uma rede de Supermercados\n",
        "\n",
        "Crie um texto sobre o contexto dessa base de dados, detalhando cada coluna:\n",
        "\n",
        "Dados referente a produtos vendidos em três filiais, onde mostra todos os tipos de produtos vendidos, as avaliações destes, o valor total faturado, entre outras informações que podem ser utilizadas como indicadores de vendas.\n",
        "---\n",
        "\n",
        "\n",
        "\n"
      ],
      "metadata": {
        "id": "bxCYGIpjwkZs"
      }
    },
    {
      "cell_type": "code",
      "source": [
        "import gdown"
      ],
      "metadata": {
        "id": "iyLiMqPPJmsw"
      },
      "execution_count": 825,
      "outputs": []
    },
    {
      "cell_type": "markdown",
      "source": [
        "Os dados se encontram nesse link:\n",
        "Dados: https://docs.google.com/spreadsheets/d/1exmP2er4MvJ4yyaop3_yGhCYYmGb7s6A/edit?usp=share_link&ouid=110731142320700311054&rtpof=true&sd=true\n",
        "\n",
        "# Por que se utiliza \"!\" antes do comando gdown, para baixar a base?\n",
        "\n",
        "Os comandos que o depurador não reconhece são presumidos como instruções Python e são executados no contexto do programa que está sendo depurado. As instruções Python também podem ser prefixadas com um ponto de exclamação (!). Essa é uma maneira poderosa de inspecionar o programa que está sendo depurado;"
      ],
      "metadata": {
        "id": "qYdhOTFfw2FE"
      }
    },
    {
      "cell_type": "code",
      "source": [
        "!gdown 1exmP2er4MvJ4yyaop3_yGhCYYmGb7s6A\n"
      ],
      "metadata": {
        "colab": {
          "base_uri": "https://localhost:8080/"
        },
        "id": "OvRaiFoRLOzZ",
        "outputId": "e8710443-eed4-4a20-df22-3e835370a6d9"
      },
      "execution_count": 826,
      "outputs": [
        {
          "output_type": "stream",
          "name": "stdout",
          "text": [
            "Downloading...\n",
            "From: https://drive.google.com/uc?id=1exmP2er4MvJ4yyaop3_yGhCYYmGb7s6A\n",
            "To: /content/SuperMercados.xlsx\n",
            "\r  0% 0.00/97.5k [00:00<?, ?B/s]\r100% 97.5k/97.5k [00:00<00:00, 80.3MB/s]\n"
          ]
        }
      ]
    },
    {
      "cell_type": "markdown",
      "source": [
        "# Foi utilizado a biblioteca gdown para transferir do drive para a IDE Colab\n",
        "\n",
        "Por que precisamos de bibliotecas no python?\n",
        "\n",
        "Para que servem as bibliotecas em Python?\n",
        "\n",
        "As bibliotecas Python são um conjunto de módulos e funções úteis que reduzem o uso de código no programa. São mais de 137 mil bibliotecas Python que facilitam a programação dos desenvolvedores, com diversas finalidades. Por meio delas, é possível fazer tratamento de dados Python.\n",
        "\n",
        "# Coloque o link da documentação dessas bibliotecas para que serve (detalhadamente)\n",
        "\n",
        "Numpy:\n",
        "O NumPy é uma biblioteca para a linguagem Python com funções para se trabalhar com computação numérica. Seu principal objeto é o vetor n-dimensional, ou ndarray . Um vetor n-dimensional também é conhecido pelo nome tensor.\n",
        "\n",
        "Documentação: https://numpy.org/doc/\n",
        "\n",
        "Pandas: \n",
        "Pandas é uma biblioteca para Ciência de Dados de código aberto (open source), construída sobre a linguagem Python, e que providencia uma abordagem rápida e flexível, com estruturas robustas para se trabalhar com dados relacionais (ou rotulados), e tudo isso de maneira simples e intuitiva.\n",
        "\n",
        "Documentação: https://pandas.pydata.org/docs/\n",
        "\n",
        "Matplotlib: \n",
        "Matplotlib é uma das bibliotecas Python para visualização de dados que permite a criação de gráficos e plotagem 2D.\n",
        "\n",
        "Documentação: https://matplotlib.org/stable/index.html\n",
        "\n",
        "Seaborn: Seaborn é uma das mais poderosas ferramentas para plotagem dos mais variados tipos de gráficos em Python. É perfeita para análise exploratória de dados e para conhecer a fundo como os dados se comportam numa base de dados.\n",
        "\n",
        "Documentação: https://seaborn.pydata.org/tutorial.html"
      ],
      "metadata": {
        "id": "12L8LtHsyAJy"
      }
    },
    {
      "cell_type": "code",
      "source": [
        "import numpy as np\n",
        "import pandas as pd\n",
        "import matplotlib.pyplot as plt\n",
        "import seaborn as sns\n"
      ],
      "metadata": {
        "id": "6DSZpfnMLpyR"
      },
      "execution_count": 827,
      "outputs": []
    },
    {
      "cell_type": "code",
      "source": [
        "df = pd.read_excel('SuperMercados.xlsx')\n",
        "df.head()"
      ],
      "metadata": {
        "colab": {
          "base_uri": "https://localhost:8080/",
          "height": 478
        },
        "id": "Gqe36P50MII6",
        "outputId": "84496ac1-8535-4018-8452-d7207eff10d8"
      },
      "execution_count": 828,
      "outputs": [
        {
          "output_type": "execute_result",
          "data": {
            "text/plain": [
              "   Unnamed: 0 ID da fatura Filial Tipo de Cliente Gênero  \\\n",
              "0           0  750-67-8428      A          Member      F   \n",
              "1           1  226-31-3081      C          Normal      F   \n",
              "2           2  631-41-3108      A          Normal      M   \n",
              "3           3  123-19-1176      A          Member      M   \n",
              "4           4  373-73-7910      A          Normal      M   \n",
              "\n",
              "         Linha de produto  Preço unitário  Quantidade    Total       Data  \\\n",
              "0          Saúde e beleza         1120.35           7  7842.45   1/5/2019   \n",
              "1  Acessórios eletrônicos          229.20           5  1146.00   3/8/2019   \n",
              "2   Casa e estilo de vida          694.95           7  4864.65   3/3/2019   \n",
              "3          Saúde e beleza          873.30           8  6986.40  1/27/2019   \n",
              "4      Esportes e viagens         1294.65           7  9062.55   2/8/2019   \n",
              "\n",
              "      Tempo          Pagamento       COGS  porcentagem de margem bruta  \\\n",
              "0  13:08:00                PIX  4705.4700                   4761904762   \n",
              "1  10:29:00           Dinheiro  1031.4000                   4761904762   \n",
              "2  13:23:00  Cartão de Crédito  3405.2550                   4761904762   \n",
              "3  20:33:00                PIX  4191.8400                   4761904762   \n",
              "4  10:37:00                PIX  6796.9125                   4761904762   \n",
              "\n",
              "   renda bruta  Avaliação  \n",
              "0       261415         91  \n",
              "1          382         96  \n",
              "2       162155         74  \n",
              "3        23288         84  \n",
              "4       302085         53  "
            ],
            "text/html": [
              "\n",
              "  <div id=\"df-6adfe0bf-ae5d-4c6b-8add-a3e8f8c8d96e\">\n",
              "    <div class=\"colab-df-container\">\n",
              "      <div>\n",
              "<style scoped>\n",
              "    .dataframe tbody tr th:only-of-type {\n",
              "        vertical-align: middle;\n",
              "    }\n",
              "\n",
              "    .dataframe tbody tr th {\n",
              "        vertical-align: top;\n",
              "    }\n",
              "\n",
              "    .dataframe thead th {\n",
              "        text-align: right;\n",
              "    }\n",
              "</style>\n",
              "<table border=\"1\" class=\"dataframe\">\n",
              "  <thead>\n",
              "    <tr style=\"text-align: right;\">\n",
              "      <th></th>\n",
              "      <th>Unnamed: 0</th>\n",
              "      <th>ID da fatura</th>\n",
              "      <th>Filial</th>\n",
              "      <th>Tipo de Cliente</th>\n",
              "      <th>Gênero</th>\n",
              "      <th>Linha de produto</th>\n",
              "      <th>Preço unitário</th>\n",
              "      <th>Quantidade</th>\n",
              "      <th>Total</th>\n",
              "      <th>Data</th>\n",
              "      <th>Tempo</th>\n",
              "      <th>Pagamento</th>\n",
              "      <th>COGS</th>\n",
              "      <th>porcentagem de margem bruta</th>\n",
              "      <th>renda bruta</th>\n",
              "      <th>Avaliação</th>\n",
              "    </tr>\n",
              "  </thead>\n",
              "  <tbody>\n",
              "    <tr>\n",
              "      <th>0</th>\n",
              "      <td>0</td>\n",
              "      <td>750-67-8428</td>\n",
              "      <td>A</td>\n",
              "      <td>Member</td>\n",
              "      <td>F</td>\n",
              "      <td>Saúde e beleza</td>\n",
              "      <td>1120.35</td>\n",
              "      <td>7</td>\n",
              "      <td>7842.45</td>\n",
              "      <td>1/5/2019</td>\n",
              "      <td>13:08:00</td>\n",
              "      <td>PIX</td>\n",
              "      <td>4705.4700</td>\n",
              "      <td>4761904762</td>\n",
              "      <td>261415</td>\n",
              "      <td>91</td>\n",
              "    </tr>\n",
              "    <tr>\n",
              "      <th>1</th>\n",
              "      <td>1</td>\n",
              "      <td>226-31-3081</td>\n",
              "      <td>C</td>\n",
              "      <td>Normal</td>\n",
              "      <td>F</td>\n",
              "      <td>Acessórios eletrônicos</td>\n",
              "      <td>229.20</td>\n",
              "      <td>5</td>\n",
              "      <td>1146.00</td>\n",
              "      <td>3/8/2019</td>\n",
              "      <td>10:29:00</td>\n",
              "      <td>Dinheiro</td>\n",
              "      <td>1031.4000</td>\n",
              "      <td>4761904762</td>\n",
              "      <td>382</td>\n",
              "      <td>96</td>\n",
              "    </tr>\n",
              "    <tr>\n",
              "      <th>2</th>\n",
              "      <td>2</td>\n",
              "      <td>631-41-3108</td>\n",
              "      <td>A</td>\n",
              "      <td>Normal</td>\n",
              "      <td>M</td>\n",
              "      <td>Casa e estilo de vida</td>\n",
              "      <td>694.95</td>\n",
              "      <td>7</td>\n",
              "      <td>4864.65</td>\n",
              "      <td>3/3/2019</td>\n",
              "      <td>13:23:00</td>\n",
              "      <td>Cartão de Crédito</td>\n",
              "      <td>3405.2550</td>\n",
              "      <td>4761904762</td>\n",
              "      <td>162155</td>\n",
              "      <td>74</td>\n",
              "    </tr>\n",
              "    <tr>\n",
              "      <th>3</th>\n",
              "      <td>3</td>\n",
              "      <td>123-19-1176</td>\n",
              "      <td>A</td>\n",
              "      <td>Member</td>\n",
              "      <td>M</td>\n",
              "      <td>Saúde e beleza</td>\n",
              "      <td>873.30</td>\n",
              "      <td>8</td>\n",
              "      <td>6986.40</td>\n",
              "      <td>1/27/2019</td>\n",
              "      <td>20:33:00</td>\n",
              "      <td>PIX</td>\n",
              "      <td>4191.8400</td>\n",
              "      <td>4761904762</td>\n",
              "      <td>23288</td>\n",
              "      <td>84</td>\n",
              "    </tr>\n",
              "    <tr>\n",
              "      <th>4</th>\n",
              "      <td>4</td>\n",
              "      <td>373-73-7910</td>\n",
              "      <td>A</td>\n",
              "      <td>Normal</td>\n",
              "      <td>M</td>\n",
              "      <td>Esportes e viagens</td>\n",
              "      <td>1294.65</td>\n",
              "      <td>7</td>\n",
              "      <td>9062.55</td>\n",
              "      <td>2/8/2019</td>\n",
              "      <td>10:37:00</td>\n",
              "      <td>PIX</td>\n",
              "      <td>6796.9125</td>\n",
              "      <td>4761904762</td>\n",
              "      <td>302085</td>\n",
              "      <td>53</td>\n",
              "    </tr>\n",
              "  </tbody>\n",
              "</table>\n",
              "</div>\n",
              "      <button class=\"colab-df-convert\" onclick=\"convertToInteractive('df-6adfe0bf-ae5d-4c6b-8add-a3e8f8c8d96e')\"\n",
              "              title=\"Convert this dataframe to an interactive table.\"\n",
              "              style=\"display:none;\">\n",
              "        \n",
              "  <svg xmlns=\"http://www.w3.org/2000/svg\" height=\"24px\"viewBox=\"0 0 24 24\"\n",
              "       width=\"24px\">\n",
              "    <path d=\"M0 0h24v24H0V0z\" fill=\"none\"/>\n",
              "    <path d=\"M18.56 5.44l.94 2.06.94-2.06 2.06-.94-2.06-.94-.94-2.06-.94 2.06-2.06.94zm-11 1L8.5 8.5l.94-2.06 2.06-.94-2.06-.94L8.5 2.5l-.94 2.06-2.06.94zm10 10l.94 2.06.94-2.06 2.06-.94-2.06-.94-.94-2.06-.94 2.06-2.06.94z\"/><path d=\"M17.41 7.96l-1.37-1.37c-.4-.4-.92-.59-1.43-.59-.52 0-1.04.2-1.43.59L10.3 9.45l-7.72 7.72c-.78.78-.78 2.05 0 2.83L4 21.41c.39.39.9.59 1.41.59.51 0 1.02-.2 1.41-.59l7.78-7.78 2.81-2.81c.8-.78.8-2.07 0-2.86zM5.41 20L4 18.59l7.72-7.72 1.47 1.35L5.41 20z\"/>\n",
              "  </svg>\n",
              "      </button>\n",
              "      \n",
              "  <style>\n",
              "    .colab-df-container {\n",
              "      display:flex;\n",
              "      flex-wrap:wrap;\n",
              "      gap: 12px;\n",
              "    }\n",
              "\n",
              "    .colab-df-convert {\n",
              "      background-color: #E8F0FE;\n",
              "      border: none;\n",
              "      border-radius: 50%;\n",
              "      cursor: pointer;\n",
              "      display: none;\n",
              "      fill: #1967D2;\n",
              "      height: 32px;\n",
              "      padding: 0 0 0 0;\n",
              "      width: 32px;\n",
              "    }\n",
              "\n",
              "    .colab-df-convert:hover {\n",
              "      background-color: #E2EBFA;\n",
              "      box-shadow: 0px 1px 2px rgba(60, 64, 67, 0.3), 0px 1px 3px 1px rgba(60, 64, 67, 0.15);\n",
              "      fill: #174EA6;\n",
              "    }\n",
              "\n",
              "    [theme=dark] .colab-df-convert {\n",
              "      background-color: #3B4455;\n",
              "      fill: #D2E3FC;\n",
              "    }\n",
              "\n",
              "    [theme=dark] .colab-df-convert:hover {\n",
              "      background-color: #434B5C;\n",
              "      box-shadow: 0px 1px 3px 1px rgba(0, 0, 0, 0.15);\n",
              "      filter: drop-shadow(0px 1px 2px rgba(0, 0, 0, 0.3));\n",
              "      fill: #FFFFFF;\n",
              "    }\n",
              "  </style>\n",
              "\n",
              "      <script>\n",
              "        const buttonEl =\n",
              "          document.querySelector('#df-6adfe0bf-ae5d-4c6b-8add-a3e8f8c8d96e button.colab-df-convert');\n",
              "        buttonEl.style.display =\n",
              "          google.colab.kernel.accessAllowed ? 'block' : 'none';\n",
              "\n",
              "        async function convertToInteractive(key) {\n",
              "          const element = document.querySelector('#df-6adfe0bf-ae5d-4c6b-8add-a3e8f8c8d96e');\n",
              "          const dataTable =\n",
              "            await google.colab.kernel.invokeFunction('convertToInteractive',\n",
              "                                                     [key], {});\n",
              "          if (!dataTable) return;\n",
              "\n",
              "          const docLinkHtml = 'Like what you see? Visit the ' +\n",
              "            '<a target=\"_blank\" href=https://colab.research.google.com/notebooks/data_table.ipynb>data table notebook</a>'\n",
              "            + ' to learn more about interactive tables.';\n",
              "          element.innerHTML = '';\n",
              "          dataTable['output_type'] = 'display_data';\n",
              "          await google.colab.output.renderOutput(dataTable, element);\n",
              "          const docLink = document.createElement('div');\n",
              "          docLink.innerHTML = docLinkHtml;\n",
              "          element.appendChild(docLink);\n",
              "        }\n",
              "      </script>\n",
              "    </div>\n",
              "  </div>\n",
              "  "
            ]
          },
          "metadata": {},
          "execution_count": 828
        }
      ]
    },
    {
      "cell_type": "markdown",
      "source": [
        "# Etapa: Limpeza e transformação da base de dados\n",
        "# Explique o comando abaixo, de qual biblioteca se trata?\n",
        "\n",
        "O Heatmap - mapa de calor serve para que seja possível a visualização de uma representação de cores da biblioteca Seaborn.\n",
        "\n",
        "O yticklabels serve para definir as marcações do eixo em plotagens Seaborn em Python.\n",
        "\n",
        " O cbar desenha uma barra de cores.\n",
        "\n",
        "O cmap é a instância do mapa de cores ou o nome de um mapa de cores registrado.\n",
        "\n",
        "O argumento 'gnuplot' é o gráfico, plotando o conjunto de dados.\n",
        "\n",
        "A função com todos os comandos citador, verifica informações faltantes para a manipulação dos dados."
      ],
      "metadata": {
        "id": "mivrpc3h05Df"
      }
    },
    {
      "cell_type": "code",
      "source": [
        "sns.heatmap(df.isnull(), \n",
        "            yticklabels = False,\n",
        "            cbar = False,\n",
        "            cmap = 'gnuplot')\n"
      ],
      "metadata": {
        "colab": {
          "base_uri": "https://localhost:8080/",
          "height": 650
        },
        "id": "PpoEBAGPMikr",
        "outputId": "91f1b815-c391-4bf0-b926-3c99b8dd5e78"
      },
      "execution_count": 829,
      "outputs": [
        {
          "output_type": "execute_result",
          "data": {
            "text/plain": [
              "<Axes: >"
            ]
          },
          "metadata": {},
          "execution_count": 829
        },
        {
          "output_type": "display_data",
          "data": {
            "text/plain": [
              "<Figure size 640x480 with 1 Axes>"
            ],
            "image/png": "[encoded data removed]"
          },
          "metadata": {}
        }
      ]
    },
    {
      "cell_type": "code",
      "source": [
        "#df"
      ],
      "metadata": {
        "id": "x3Q6Oyl7Nkal"
      },
      "execution_count": 830,
      "outputs": []
    },
    {
      "cell_type": "markdown",
      "source": [
        "# O que significa inplace?\n",
        "\n",
        "Pode ser renomeado o nome de uma coluna e o implace=True armazena essa informação para as próximas visualizações.\n",
        "\n",
        "Neste caso como foi utilizado o drop, significa que aquela coluna foi destituída e permanecerá assim para as próximas visualizações."
      ],
      "metadata": {
        "id": "Gs11hv1m7rV4"
      }
    },
    {
      "cell_type": "code",
      "source": [
        "df.drop(columns=['Unnamed: 0'], inplace = True)"
      ],
      "metadata": {
        "id": "mVm8LhGZOhuK"
      },
      "execution_count": 831,
      "outputs": []
    },
    {
      "cell_type": "code",
      "source": [
        "df.drop(columns=['ID da fatura', 'renda bruta', 'porcentagem de margem bruta'], inplace = True)"
      ],
      "metadata": {
        "id": "XghLKGo1Pvgx"
      },
      "execution_count": 832,
      "outputs": []
    },
    {
      "cell_type": "code",
      "source": [
        "df.head()"
      ],
      "metadata": {
        "colab": {
          "base_uri": "https://localhost:8080/",
          "height": 250
        },
        "id": "vKGowBfpRich",
        "outputId": "9cf0dbe9-432e-4ddd-d537-4664d68895e2"
      },
      "execution_count": 833,
      "outputs": [
        {
          "output_type": "execute_result",
          "data": {
            "text/plain": [
              "  Filial Tipo de Cliente Gênero        Linha de produto  Preço unitário  \\\n",
              "0      A          Member      F          Saúde e beleza         1120.35   \n",
              "1      C          Normal      F  Acessórios eletrônicos          229.20   \n",
              "2      A          Normal      M   Casa e estilo de vida          694.95   \n",
              "3      A          Member      M          Saúde e beleza          873.30   \n",
              "4      A          Normal      M      Esportes e viagens         1294.65   \n",
              "\n",
              "   Quantidade    Total       Data     Tempo          Pagamento       COGS  \\\n",
              "0           7  7842.45   1/5/2019  13:08:00                PIX  4705.4700   \n",
              "1           5  1146.00   3/8/2019  10:29:00           Dinheiro  1031.4000   \n",
              "2           7  4864.65   3/3/2019  13:23:00  Cartão de Crédito  3405.2550   \n",
              "3           8  6986.40  1/27/2019  20:33:00                PIX  4191.8400   \n",
              "4           7  9062.55   2/8/2019  10:37:00                PIX  6796.9125   \n",
              "\n",
              "   Avaliação  \n",
              "0         91  \n",
              "1         96  \n",
              "2         74  \n",
              "3         84  \n",
              "4         53  "
            ],
            "text/html": [
              "\n",
              "  <div id=\"df-f00ec029-ceab-4f10-b955-27d08d6b7fcd\">\n",
              "    <div class=\"colab-df-container\">\n",
              "      <div>\n",
              "<style scoped>\n",
              "    .dataframe tbody tr th:only-of-type {\n",
              "        vertical-align: middle;\n",
              "    }\n",
              "\n",
              "    .dataframe tbody tr th {\n",
              "        vertical-align: top;\n",
              "    }\n",
              "\n",
              "    .dataframe thead th {\n",
              "        text-align: right;\n",
              "    }\n",
              "</style>\n",
              "<table border=\"1\" class=\"dataframe\">\n",
              "  <thead>\n",
              "    <tr style=\"text-align: right;\">\n",
              "      <th></th>\n",
              "      <th>Filial</th>\n",
              "      <th>Tipo de Cliente</th>\n",
              "      <th>Gênero</th>\n",
              "      <th>Linha de produto</th>\n",
              "      <th>Preço unitário</th>\n",
              "      <th>Quantidade</th>\n",
              "      <th>Total</th>\n",
              "      <th>Data</th>\n",
              "      <th>Tempo</th>\n",
              "      <th>Pagamento</th>\n",
              "      <th>COGS</th>\n",
              "      <th>Avaliação</th>\n",
              "    </tr>\n",
              "  </thead>\n",
              "  <tbody>\n",
              "    <tr>\n",
              "      <th>0</th>\n",
              "      <td>A</td>\n",
              "      <td>Member</td>\n",
              "      <td>F</td>\n",
              "      <td>Saúde e beleza</td>\n",
              "      <td>1120.35</td>\n",
              "      <td>7</td>\n",
              "      <td>7842.45</td>\n",
              "      <td>1/5/2019</td>\n",
              "      <td>13:08:00</td>\n",
              "      <td>PIX</td>\n",
              "      <td>4705.4700</td>\n",
              "      <td>91</td>\n",
              "    </tr>\n",
              "    <tr>\n",
              "      <th>1</th>\n",
              "      <td>C</td>\n",
              "      <td>Normal</td>\n",
              "      <td>F</td>\n",
              "      <td>Acessórios eletrônicos</td>\n",
              "      <td>229.20</td>\n",
              "      <td>5</td>\n",
              "      <td>1146.00</td>\n",
              "      <td>3/8/2019</td>\n",
              "      <td>10:29:00</td>\n",
              "      <td>Dinheiro</td>\n",
              "      <td>1031.4000</td>\n",
              "      <td>96</td>\n",
              "    </tr>\n",
              "    <tr>\n",
              "      <th>2</th>\n",
              "      <td>A</td>\n",
              "      <td>Normal</td>\n",
              "      <td>M</td>\n",
              "      <td>Casa e estilo de vida</td>\n",
              "      <td>694.95</td>\n",
              "      <td>7</td>\n",
              "      <td>4864.65</td>\n",
              "      <td>3/3/2019</td>\n",
              "      <td>13:23:00</td>\n",
              "      <td>Cartão de Crédito</td>\n",
              "      <td>3405.2550</td>\n",
              "      <td>74</td>\n",
              "    </tr>\n",
              "    <tr>\n",
              "      <th>3</th>\n",
              "      <td>A</td>\n",
              "      <td>Member</td>\n",
              "      <td>M</td>\n",
              "      <td>Saúde e beleza</td>\n",
              "      <td>873.30</td>\n",
              "      <td>8</td>\n",
              "      <td>6986.40</td>\n",
              "      <td>1/27/2019</td>\n",
              "      <td>20:33:00</td>\n",
              "      <td>PIX</td>\n",
              "      <td>4191.8400</td>\n",
              "      <td>84</td>\n",
              "    </tr>\n",
              "    <tr>\n",
              "      <th>4</th>\n",
              "      <td>A</td>\n",
              "      <td>Normal</td>\n",
              "      <td>M</td>\n",
              "      <td>Esportes e viagens</td>\n",
              "      <td>1294.65</td>\n",
              "      <td>7</td>\n",
              "      <td>9062.55</td>\n",
              "      <td>2/8/2019</td>\n",
              "      <td>10:37:00</td>\n",
              "      <td>PIX</td>\n",
              "      <td>6796.9125</td>\n",
              "      <td>53</td>\n",
              "    </tr>\n",
              "  </tbody>\n",
              "</table>\n",
              "</div>\n",
              "      <button class=\"colab-df-convert\" onclick=\"convertToInteractive('df-f00ec029-ceab-4f10-b955-27d08d6b7fcd')\"\n",
              "              title=\"Convert this dataframe to an interactive table.\"\n",
              "              style=\"display:none;\">\n",
              "        \n",
              "  <svg xmlns=\"http://www.w3.org/2000/svg\" height=\"24px\"viewBox=\"0 0 24 24\"\n",
              "       width=\"24px\">\n",
              "    <path d=\"M0 0h24v24H0V0z\" fill=\"none\"/>\n",
              "    <path d=\"M18.56 5.44l.94 2.06.94-2.06 2.06-.94-2.06-.94-.94-2.06-.94 2.06-2.06.94zm-11 1L8.5 8.5l.94-2.06 2.06-.94-2.06-.94L8.5 2.5l-.94 2.06-2.06.94zm10 10l.94 2.06.94-2.06 2.06-.94-2.06-.94-.94-2.06-.94 2.06-2.06.94z\"/><path d=\"M17.41 7.96l-1.37-1.37c-.4-.4-.92-.59-1.43-.59-.52 0-1.04.2-1.43.59L10.3 9.45l-7.72 7.72c-.78.78-.78 2.05 0 2.83L4 21.41c.39.39.9.59 1.41.59.51 0 1.02-.2 1.41-.59l7.78-7.78 2.81-2.81c.8-.78.8-2.07 0-2.86zM5.41 20L4 18.59l7.72-7.72 1.47 1.35L5.41 20z\"/>\n",
              "  </svg>\n",
              "      </button>\n",
              "      \n",
              "  <style>\n",
              "    .colab-df-container {\n",
              "      display:flex;\n",
              "      flex-wrap:wrap;\n",
              "      gap: 12px;\n",
              "    }\n",
              "\n",
              "    .colab-df-convert {\n",
              "      background-color: #E8F0FE;\n",
              "      border: none;\n",
              "      border-radius: 50%;\n",
              "      cursor: pointer;\n",
              "      display: none;\n",
              "      fill: #1967D2;\n",
              "      height: 32px;\n",
              "      padding: 0 0 0 0;\n",
              "      width: 32px;\n",
              "    }\n",
              "\n",
              "    .colab-df-convert:hover {\n",
              "      background-color: #E2EBFA;\n",
              "      box-shadow: 0px 1px 2px rgba(60, 64, 67, 0.3), 0px 1px 3px 1px rgba(60, 64, 67, 0.15);\n",
              "      fill: #174EA6;\n",
              "    }\n",
              "\n",
              "    [theme=dark] .colab-df-convert {\n",
              "      background-color: #3B4455;\n",
              "      fill: #D2E3FC;\n",
              "    }\n",
              "\n",
              "    [theme=dark] .colab-df-convert:hover {\n",
              "      background-color: #434B5C;\n",
              "      box-shadow: 0px 1px 3px 1px rgba(0, 0, 0, 0.15);\n",
              "      filter: drop-shadow(0px 1px 2px rgba(0, 0, 0, 0.3));\n",
              "      fill: #FFFFFF;\n",
              "    }\n",
              "  </style>\n",
              "\n",
              "      <script>\n",
              "        const buttonEl =\n",
              "          document.querySelector('#df-f00ec029-ceab-4f10-b955-27d08d6b7fcd button.colab-df-convert');\n",
              "        buttonEl.style.display =\n",
              "          google.colab.kernel.accessAllowed ? 'block' : 'none';\n",
              "\n",
              "        async function convertToInteractive(key) {\n",
              "          const element = document.querySelector('#df-f00ec029-ceab-4f10-b955-27d08d6b7fcd');\n",
              "          const dataTable =\n",
              "            await google.colab.kernel.invokeFunction('convertToInteractive',\n",
              "                                                     [key], {});\n",
              "          if (!dataTable) return;\n",
              "\n",
              "          const docLinkHtml = 'Like what you see? Visit the ' +\n",
              "            '<a target=\"_blank\" href=https://colab.research.google.com/notebooks/data_table.ipynb>data table notebook</a>'\n",
              "            + ' to learn more about interactive tables.';\n",
              "          element.innerHTML = '';\n",
              "          dataTable['output_type'] = 'display_data';\n",
              "          await google.colab.output.renderOutput(dataTable, element);\n",
              "          const docLink = document.createElement('div');\n",
              "          docLink.innerHTML = docLinkHtml;\n",
              "          element.appendChild(docLink);\n",
              "        }\n",
              "      </script>\n",
              "    </div>\n",
              "  </div>\n",
              "  "
            ]
          },
          "metadata": {},
          "execution_count": 833
        }
      ]
    },
    {
      "cell_type": "code",
      "source": [
        "df.replace({'Tipo de Cliente' : {'Member' : 'Associado'}}, inplace = True)"
      ],
      "metadata": {
        "id": "-W6pmh4GQYiP"
      },
      "execution_count": 834,
      "outputs": []
    },
    {
      "cell_type": "code",
      "source": [
        "df.head()\n"
      ],
      "metadata": {
        "colab": {
          "base_uri": "https://localhost:8080/",
          "height": 250
        },
        "id": "cKchHT3ASLki",
        "outputId": "1d2d3a85-2e1d-4e2b-eb1c-32a92a2d9136"
      },
      "execution_count": 835,
      "outputs": [
        {
          "output_type": "execute_result",
          "data": {
            "text/plain": [
              "  Filial Tipo de Cliente Gênero        Linha de produto  Preço unitário  \\\n",
              "0      A       Associado      F          Saúde e beleza         1120.35   \n",
              "1      C          Normal      F  Acessórios eletrônicos          229.20   \n",
              "2      A          Normal      M   Casa e estilo de vida          694.95   \n",
              "3      A       Associado      M          Saúde e beleza          873.30   \n",
              "4      A          Normal      M      Esportes e viagens         1294.65   \n",
              "\n",
              "   Quantidade    Total       Data     Tempo          Pagamento       COGS  \\\n",
              "0           7  7842.45   1/5/2019  13:08:00                PIX  4705.4700   \n",
              "1           5  1146.00   3/8/2019  10:29:00           Dinheiro  1031.4000   \n",
              "2           7  4864.65   3/3/2019  13:23:00  Cartão de Crédito  3405.2550   \n",
              "3           8  6986.40  1/27/2019  20:33:00                PIX  4191.8400   \n",
              "4           7  9062.55   2/8/2019  10:37:00                PIX  6796.9125   \n",
              "\n",
              "   Avaliação  \n",
              "0         91  \n",
              "1         96  \n",
              "2         74  \n",
              "3         84  \n",
              "4         53  "
            ],
            "text/html": [
              "\n",
              "  <div id=\"df-8828c9a7-31e2-4df7-b1c2-2858769d81b7\">\n",
              "    <div class=\"colab-df-container\">\n",
              "      <div>\n",
              "<style scoped>\n",
              "    .dataframe tbody tr th:only-of-type {\n",
              "        vertical-align: middle;\n",
              "    }\n",
              "\n",
              "    .dataframe tbody tr th {\n",
              "        vertical-align: top;\n",
              "    }\n",
              "\n",
              "    .dataframe thead th {\n",
              "        text-align: right;\n",
              "    }\n",
              "</style>\n",
              "<table border=\"1\" class=\"dataframe\">\n",
              "  <thead>\n",
              "    <tr style=\"text-align: right;\">\n",
              "      <th></th>\n",
              "      <th>Filial</th>\n",
              "      <th>Tipo de Cliente</th>\n",
              "      <th>Gênero</th>\n",
              "      <th>Linha de produto</th>\n",
              "      <th>Preço unitário</th>\n",
              "      <th>Quantidade</th>\n",
              "      <th>Total</th>\n",
              "      <th>Data</th>\n",
              "      <th>Tempo</th>\n",
              "      <th>Pagamento</th>\n",
              "      <th>COGS</th>\n",
              "      <th>Avaliação</th>\n",
              "    </tr>\n",
              "  </thead>\n",
              "  <tbody>\n",
              "    <tr>\n",
              "      <th>0</th>\n",
              "      <td>A</td>\n",
              "      <td>Associado</td>\n",
              "      <td>F</td>\n",
              "      <td>Saúde e beleza</td>\n",
              "      <td>1120.35</td>\n",
              "      <td>7</td>\n",
              "      <td>7842.45</td>\n",
              "      <td>1/5/2019</td>\n",
              "      <td>13:08:00</td>\n",
              "      <td>PIX</td>\n",
              "      <td>4705.4700</td>\n",
              "      <td>91</td>\n",
              "    </tr>\n",
              "    <tr>\n",
              "      <th>1</th>\n",
              "      <td>C</td>\n",
              "      <td>Normal</td>\n",
              "      <td>F</td>\n",
              "      <td>Acessórios eletrônicos</td>\n",
              "      <td>229.20</td>\n",
              "      <td>5</td>\n",
              "      <td>1146.00</td>\n",
              "      <td>3/8/2019</td>\n",
              "      <td>10:29:00</td>\n",
              "      <td>Dinheiro</td>\n",
              "      <td>1031.4000</td>\n",
              "      <td>96</td>\n",
              "    </tr>\n",
              "    <tr>\n",
              "      <th>2</th>\n",
              "      <td>A</td>\n",
              "      <td>Normal</td>\n",
              "      <td>M</td>\n",
              "      <td>Casa e estilo de vida</td>\n",
              "      <td>694.95</td>\n",
              "      <td>7</td>\n",
              "      <td>4864.65</td>\n",
              "      <td>3/3/2019</td>\n",
              "      <td>13:23:00</td>\n",
              "      <td>Cartão de Crédito</td>\n",
              "      <td>3405.2550</td>\n",
              "      <td>74</td>\n",
              "    </tr>\n",
              "    <tr>\n",
              "      <th>3</th>\n",
              "      <td>A</td>\n",
              "      <td>Associado</td>\n",
              "      <td>M</td>\n",
              "      <td>Saúde e beleza</td>\n",
              "      <td>873.30</td>\n",
              "      <td>8</td>\n",
              "      <td>6986.40</td>\n",
              "      <td>1/27/2019</td>\n",
              "      <td>20:33:00</td>\n",
              "      <td>PIX</td>\n",
              "      <td>4191.8400</td>\n",
              "      <td>84</td>\n",
              "    </tr>\n",
              "    <tr>\n",
              "      <th>4</th>\n",
              "      <td>A</td>\n",
              "      <td>Normal</td>\n",
              "      <td>M</td>\n",
              "      <td>Esportes e viagens</td>\n",
              "      <td>1294.65</td>\n",
              "      <td>7</td>\n",
              "      <td>9062.55</td>\n",
              "      <td>2/8/2019</td>\n",
              "      <td>10:37:00</td>\n",
              "      <td>PIX</td>\n",
              "      <td>6796.9125</td>\n",
              "      <td>53</td>\n",
              "    </tr>\n",
              "  </tbody>\n",
              "</table>\n",
              "</div>\n",
              "      <button class=\"colab-df-convert\" onclick=\"convertToInteractive('df-8828c9a7-31e2-4df7-b1c2-2858769d81b7')\"\n",
              "              title=\"Convert this dataframe to an interactive table.\"\n",
              "              style=\"display:none;\">\n",
              "        \n",
              "  <svg xmlns=\"http://www.w3.org/2000/svg\" height=\"24px\"viewBox=\"0 0 24 24\"\n",
              "       width=\"24px\">\n",
              "    <path d=\"M0 0h24v24H0V0z\" fill=\"none\"/>\n",
              "    <path d=\"M18.56 5.44l.94 2.06.94-2.06 2.06-.94-2.06-.94-.94-2.06-.94 2.06-2.06.94zm-11 1L8.5 8.5l.94-2.06 2.06-.94-2.06-.94L8.5 2.5l-.94 2.06-2.06.94zm10 10l.94 2.06.94-2.06 2.06-.94-2.06-.94-.94-2.06-.94 2.06-2.06.94z\"/><path d=\"M17.41 7.96l-1.37-1.37c-.4-.4-.92-.59-1.43-.59-.52 0-1.04.2-1.43.59L10.3 9.45l-7.72 7.72c-.78.78-.78 2.05 0 2.83L4 21.41c.39.39.9.59 1.41.59.51 0 1.02-.2 1.41-.59l7.78-7.78 2.81-2.81c.8-.78.8-2.07 0-2.86zM5.41 20L4 18.59l7.72-7.72 1.47 1.35L5.41 20z\"/>\n",
              "  </svg>\n",
              "      </button>\n",
              "      \n",
              "  <style>\n",
              "    .colab-df-container {\n",
              "      display:flex;\n",
              "      flex-wrap:wrap;\n",
              "      gap: 12px;\n",
              "    }\n",
              "\n",
              "    .colab-df-convert {\n",
              "      background-color: #E8F0FE;\n",
              "      border: none;\n",
              "      border-radius: 50%;\n",
              "      cursor: pointer;\n",
              "      display: none;\n",
              "      fill: #1967D2;\n",
              "      height: 32px;\n",
              "      padding: 0 0 0 0;\n",
              "      width: 32px;\n",
              "    }\n",
              "\n",
              "    .colab-df-convert:hover {\n",
              "      background-color: #E2EBFA;\n",
              "      box-shadow: 0px 1px 2px rgba(60, 64, 67, 0.3), 0px 1px 3px 1px rgba(60, 64, 67, 0.15);\n",
              "      fill: #174EA6;\n",
              "    }\n",
              "\n",
              "    [theme=dark] .colab-df-convert {\n",
              "      background-color: #3B4455;\n",
              "      fill: #D2E3FC;\n",
              "    }\n",
              "\n",
              "    [theme=dark] .colab-df-convert:hover {\n",
              "      background-color: #434B5C;\n",
              "      box-shadow: 0px 1px 3px 1px rgba(0, 0, 0, 0.15);\n",
              "      filter: drop-shadow(0px 1px 2px rgba(0, 0, 0, 0.3));\n",
              "      fill: #FFFFFF;\n",
              "    }\n",
              "  </style>\n",
              "\n",
              "      <script>\n",
              "        const buttonEl =\n",
              "          document.querySelector('#df-8828c9a7-31e2-4df7-b1c2-2858769d81b7 button.colab-df-convert');\n",
              "        buttonEl.style.display =\n",
              "          google.colab.kernel.accessAllowed ? 'block' : 'none';\n",
              "\n",
              "        async function convertToInteractive(key) {\n",
              "          const element = document.querySelector('#df-8828c9a7-31e2-4df7-b1c2-2858769d81b7');\n",
              "          const dataTable =\n",
              "            await google.colab.kernel.invokeFunction('convertToInteractive',\n",
              "                                                     [key], {});\n",
              "          if (!dataTable) return;\n",
              "\n",
              "          const docLinkHtml = 'Like what you see? Visit the ' +\n",
              "            '<a target=\"_blank\" href=https://colab.research.google.com/notebooks/data_table.ipynb>data table notebook</a>'\n",
              "            + ' to learn more about interactive tables.';\n",
              "          element.innerHTML = '';\n",
              "          dataTable['output_type'] = 'display_data';\n",
              "          await google.colab.output.renderOutput(dataTable, element);\n",
              "          const docLink = document.createElement('div');\n",
              "          docLink.innerHTML = docLinkHtml;\n",
              "          element.appendChild(docLink);\n",
              "        }\n",
              "      </script>\n",
              "    </div>\n",
              "  </div>\n",
              "  "
            ]
          },
          "metadata": {},
          "execution_count": 835
        }
      ]
    },
    {
      "cell_type": "code",
      "source": [
        "df.rename(columns={'Tempo' : 'Horário'})\n",
        "df = df.rename(columns={'Tempo' : 'Horário'})"
      ],
      "metadata": {
        "id": "o2oV0xWPSS6O"
      },
      "execution_count": 836,
      "outputs": []
    },
    {
      "cell_type": "code",
      "source": [
        "df.dtypes"
      ],
      "metadata": {
        "colab": {
          "base_uri": "https://localhost:8080/"
        },
        "id": "1Xd0a6RaT_pk",
        "outputId": "d700d6b9-75ee-4f44-a698-dedf55012b13"
      },
      "execution_count": 837,
      "outputs": [
        {
          "output_type": "execute_result",
          "data": {
            "text/plain": [
              "Filial               object\n",
              "Tipo de Cliente      object\n",
              "Gênero               object\n",
              "Linha de produto     object\n",
              "Preço unitário      float64\n",
              "Quantidade            int64\n",
              "Total               float64\n",
              "Data                 object\n",
              "Horário              object\n",
              "Pagamento            object\n",
              "COGS                float64\n",
              "Avaliação             int64\n",
              "dtype: object"
            ]
          },
          "metadata": {},
          "execution_count": 837
        }
      ]
    },
    {
      "cell_type": "code",
      "source": [
        "df['Horário']"
      ],
      "metadata": {
        "colab": {
          "base_uri": "https://localhost:8080/"
        },
        "id": "smhYhl2TUqTx",
        "outputId": "94244884-c878-44aa-9096-eb726a0a85fb"
      },
      "execution_count": 838,
      "outputs": [
        {
          "output_type": "execute_result",
          "data": {
            "text/plain": [
              "0      13:08:00\n",
              "1      10:29:00\n",
              "2      13:23:00\n",
              "3      20:33:00\n",
              "4      10:37:00\n",
              "         ...   \n",
              "995    13:46:00\n",
              "996    17:16:00\n",
              "997    13:22:00\n",
              "998    15:33:00\n",
              "999    13:28:00\n",
              "Name: Horário, Length: 1000, dtype: object"
            ]
          },
          "metadata": {},
          "execution_count": 838
        }
      ]
    },
    {
      "cell_type": "markdown",
      "source": [
        "# O que significa a função unique()?\n",
        "\n",
        "Efetuar uma busca entre uma lista para que seja verificado nesse laço se possui alguma informação entre os números existentes."
      ],
      "metadata": {
        "id": "DIxcIdEe9eLQ"
      }
    },
    {
      "cell_type": "code",
      "source": [
        "df['Data'].unique()"
      ],
      "metadata": {
        "colab": {
          "base_uri": "https://localhost:8080/"
        },
        "id": "oS1MDG3sXKBg",
        "outputId": "d66c445b-6d67-4e53-d452-281ca8a31525"
      },
      "execution_count": 839,
      "outputs": [
        {
          "output_type": "execute_result",
          "data": {
            "text/plain": [
              "array(['1/5/2019', '3/8/2019', '3/3/2019', '1/27/2019', '2/8/2019',\n",
              "       '3/25/2019', '2/25/2019', '2/24/2019', '1/10/2019', '2/20/2019',\n",
              "       '2/6/2019', '3/9/2019', '2/12/2019', '2/7/2019', '3/29/2019',\n",
              "       '1/15/2019', '3/11/2019', '1/1/2019', '1/21/2019', '3/5/2019',\n",
              "       '3/15/2019', '2/17/2019', '3/2/2019', '3/22/2019', '3/10/2019',\n",
              "       '1/25/2019', '1/28/2019', '1/7/2019', '3/23/2019', '1/17/2019',\n",
              "       '2/2/2019', '3/4/2019', '3/16/2019', '2/27/2019', '2/10/2019',\n",
              "       '3/19/2019', '2/3/2019', '3/7/2019', '2/28/2019', '3/27/2019',\n",
              "       '1/20/2019', '3/12/2019', '2/15/2019', '3/6/2019', '2/14/2019',\n",
              "       '3/13/2019', '1/24/2019', '1/6/2019', '2/11/2019', '1/22/2019',\n",
              "       '1/13/2019', '1/9/2019', '1/12/2019', '1/26/2019', '1/23/2019',\n",
              "       '2/23/2019', '1/2/2019', '2/9/2019', '3/26/2019', '3/1/2019',\n",
              "       '2/1/2019', '3/28/2019', '3/24/2019', '2/5/2019', '1/19/2019',\n",
              "       '1/16/2019', '1/8/2019', '2/18/2019', '1/18/2019', '2/16/2019',\n",
              "       '2/22/2019', '1/29/2019', '1/4/2019', '3/30/2019', '1/30/2019',\n",
              "       '1/3/2019', '3/21/2019', '2/13/2019', '1/14/2019', '3/18/2019',\n",
              "       '3/20/2019', '2/21/2019', '1/31/2019', '1/11/2019', '2/26/2019',\n",
              "       '3/17/2019', '3/14/2019', '2/4/2019', '2/19/2019'], dtype=object)"
            ]
          },
          "metadata": {},
          "execution_count": 839
        }
      ]
    },
    {
      "cell_type": "markdown",
      "source": [
        "# Por que precisamos converter para datatime64? O que significa isso?\n",
        "\n",
        "Todas as linguagens prcisam de uma função espcífica para tratar data e hora, justamente por não fazer sentido tratar como int ou float por exemplo.\n",
        "Então neste caso, foi feita a conversão para que consigamos efetuar a manipulação de data e hora em Python."
      ],
      "metadata": {
        "id": "NyzwJFgH-CUM"
      }
    },
    {
      "cell_type": "code",
      "source": [
        "df['Data'] = pd.to_datetime(df['Data'])"
      ],
      "metadata": {
        "id": "LwnD2y-9cEIU"
      },
      "execution_count": 840,
      "outputs": []
    },
    {
      "cell_type": "code",
      "source": [
        "df['Data']"
      ],
      "metadata": {
        "id": "TZZ70k4ochX4",
        "colab": {
          "base_uri": "https://localhost:8080/"
        },
        "outputId": "f5b74874-7807-4029-a036-951a37b09708"
      },
      "execution_count": 841,
      "outputs": [
        {
          "output_type": "execute_result",
          "data": {
            "text/plain": [
              "0     2019-01-05\n",
              "1     2019-03-08\n",
              "2     2019-03-03\n",
              "3     2019-01-27\n",
              "4     2019-02-08\n",
              "         ...    \n",
              "995   2019-01-29\n",
              "996   2019-03-02\n",
              "997   2019-02-09\n",
              "998   2019-02-22\n",
              "999   2019-02-18\n",
              "Name: Data, Length: 1000, dtype: datetime64[ns]"
            ]
          },
          "metadata": {},
          "execution_count": 841
        }
      ]
    },
    {
      "cell_type": "code",
      "source": [
        "df['Horário'] = pd.to_datetime(df['Horário'])"
      ],
      "metadata": {
        "id": "wDNkqzq-dFit"
      },
      "execution_count": 842,
      "outputs": []
    },
    {
      "cell_type": "code",
      "source": [
        "df['Horário']"
      ],
      "metadata": {
        "colab": {
          "base_uri": "https://localhost:8080/"
        },
        "id": "qiN6ia4xdJ2l",
        "outputId": "66acace8-7754-44f9-8098-3397a534be45"
      },
      "execution_count": 843,
      "outputs": [
        {
          "output_type": "execute_result",
          "data": {
            "text/plain": [
              "0     2023-03-28 13:08:00\n",
              "1     2023-03-28 10:29:00\n",
              "2     2023-03-28 13:23:00\n",
              "3     2023-03-28 20:33:00\n",
              "4     2023-03-28 10:37:00\n",
              "              ...        \n",
              "995   2023-03-28 13:46:00\n",
              "996   2023-03-28 17:16:00\n",
              "997   2023-03-28 13:22:00\n",
              "998   2023-03-28 15:33:00\n",
              "999   2023-03-28 13:28:00\n",
              "Name: Horário, Length: 1000, dtype: datetime64[ns]"
            ]
          },
          "metadata": {},
          "execution_count": 843
        }
      ]
    },
    {
      "cell_type": "markdown",
      "source": [
        "# IMPORTANTE: Esse comando foi atrasado, deveria ter sido executado no começo para verificar se algum dado está repetido.\n",
        "\n",
        "# Por que esse comando é importante quando se trata de KDD?\n",
        "\n",
        "Para que possa ser feito o tratamento adequado com os dados.\n",
        "Tendo informações redundantes, o tratamento pode ser feito de forma igual, mas o resultado poderá ser alterado."
      ],
      "metadata": {
        "id": "fxtn3y67-iOF"
      }
    },
    {
      "cell_type": "code",
      "source": [
        "df.duplicated().sum()"
      ],
      "metadata": {
        "colab": {
          "base_uri": "https://localhost:8080/"
        },
        "id": "Mr4AaYIwdQ9v",
        "outputId": "c3e9f430-516c-4902-ae0d-173601531934"
      },
      "execution_count": 844,
      "outputs": [
        {
          "output_type": "execute_result",
          "data": {
            "text/plain": [
              "0"
            ]
          },
          "metadata": {},
          "execution_count": 844
        }
      ]
    },
    {
      "cell_type": "code",
      "source": [
        "df.dtypes"
      ],
      "metadata": {
        "colab": {
          "base_uri": "https://localhost:8080/"
        },
        "id": "_L9YxJIUdU6T",
        "outputId": "9565eaf8-cbaf-41da-d033-db7a7fe811bc"
      },
      "execution_count": 845,
      "outputs": [
        {
          "output_type": "execute_result",
          "data": {
            "text/plain": [
              "Filial                      object\n",
              "Tipo de Cliente             object\n",
              "Gênero                      object\n",
              "Linha de produto            object\n",
              "Preço unitário             float64\n",
              "Quantidade                   int64\n",
              "Total                      float64\n",
              "Data                datetime64[ns]\n",
              "Horário             datetime64[ns]\n",
              "Pagamento                   object\n",
              "COGS                       float64\n",
              "Avaliação                    int64\n",
              "dtype: object"
            ]
          },
          "metadata": {},
          "execution_count": 845
        }
      ]
    },
    {
      "cell_type": "code",
      "source": [
        "#df"
      ],
      "metadata": {
        "id": "qAAoq-KGdpPT"
      },
      "execution_count": 846,
      "outputs": []
    },
    {
      "cell_type": "markdown",
      "source": [
        "# O que é dicionário em python, para que serve?\n",
        "\n",
        "Um dicionário é uma espécie de estrutura de dados do tipo coleção. É, portanto, um objeto que contém mais que um valor. \n",
        "\n",
        "Se nas listas, os elementos são acessados por meio de uma posição ou índice, nos dicionários isso ocorre de forma diferente. O acesso às informações acontece por meio de chaves. \n",
        "\n",
        "O uso de dicionários no desenvolvimento de algoritmos de inteligência artificial é muito comum, devido a facilidade e praticidade."
      ],
      "metadata": {
        "id": "2IsPRyqb_RT5"
      }
    },
    {
      "cell_type": "code",
      "source": [
        "meses = {1: 'Janeiro', 2: 'Fevereiro', 3: 'Março'}"
      ],
      "metadata": {
        "id": "Olxhulbsdqsi"
      },
      "execution_count": 847,
      "outputs": []
    },
    {
      "cell_type": "markdown",
      "source": [
        "# Explique a função dt.month.map(meses)?\n",
        "\n",
        "\n",
        "\n",
        "Foi transformada a data para String."
      ],
      "metadata": {
        "id": "uBKKqf0M_6xc"
      }
    },
    {
      "cell_type": "code",
      "source": [
        "df['Data'] = pd.to_datetime(df['Data']).dt.month.map(meses)"
      ],
      "metadata": {
        "id": "WIf8EIHxeNxC"
      },
      "execution_count": 848,
      "outputs": []
    },
    {
      "cell_type": "code",
      "source": [
        "#df"
      ],
      "metadata": {
        "id": "SLFRg3s3eaXI"
      },
      "execution_count": 849,
      "outputs": []
    },
    {
      "cell_type": "markdown",
      "source": [
        "# Explique a função dt.strftime, por que precisamos mudar o objeto?\n",
        "\n",
        "\n",
        "No caso abaixo foi feita a extração apenas do horário."
      ],
      "metadata": {
        "id": "yeA50PKyHp_Y"
      }
    },
    {
      "cell_type": "code",
      "source": [
        "df['Horário'] = df['Horário'].dt.strftime('%H')"
      ],
      "metadata": {
        "id": "sr6u-eQQetf2"
      },
      "execution_count": 850,
      "outputs": []
    },
    {
      "cell_type": "code",
      "source": [
        "#df\n"
      ],
      "metadata": {
        "id": "ieoCjarThbrq"
      },
      "execution_count": 851,
      "outputs": []
    },
    {
      "cell_type": "markdown",
      "source": [
        "# Explique detalhadamente o bloco de código abaixo:\n",
        "Foi feito um for - um laço de repetição em que horário foi transformado em int.\n",
        "Após isso, o if busca os horários entre 9 e 12 para chamar de \"Manhã\".\n",
        "O elif nomeia \"Tarde\" os horários entre 13 e 18.\n",
        "E o else nomeia o que não entrar nas condições acima de \"Noite\".\n",
        "\n",
        "E por último, pega a coluna horário e insere na lista time."
      ],
      "metadata": {
        "id": "GvOAds7OAVnj"
      }
    },
    {
      "cell_type": "code",
      "source": [
        "time = []\n",
        "for i in list(map(int,df['Horário'])):\n",
        "   if i > 8 and i < 13:\n",
        "    time.append('Manhã')\n",
        "   elif i > 12 and i < 19:\n",
        "    time.append('Tarde')\n",
        "   else:\n",
        "    time.append(\"Noite\")\n",
        "df['Horário'] = time"
      ],
      "metadata": {
        "id": "g3ttWlP3h6oF"
      },
      "execution_count": 852,
      "outputs": []
    },
    {
      "cell_type": "markdown",
      "source": [
        "# 1 Análise\n",
        "\n",
        "# O que significa a função abaixo? Por que linha de produto está entre parênteses e Avaliação entre colchetes?\n",
        "\n",
        "Está sendo utilizado os parênteses para agrupar uma expressão simples.\n",
        "Já a coluna Avaliação que necessitava um outro tratamento, e visto que está sendo indexado, ou seja, utilizado para arrays. Pode ser verificado que abaixo essa função irá arredondaro número todo apenas para 1 número decimal."
      ],
      "metadata": {
        "id": "4sV3ObMnBn8c"
      }
    },
    {
      "cell_type": "code",
      "source": [
        "#Qual a linha de produtos tem melhor avaliação?\n",
        "Agrupamento = df.groupby('Linha de produto')['Avaliação'].mean().reset_index(drop=False)\n"
      ],
      "metadata": {
        "id": "OvCmVPjRmu6v"
      },
      "execution_count": 853,
      "outputs": []
    },
    {
      "cell_type": "code",
      "source": [
        "Agrupando_avaliação = Agrupamento.round(1)"
      ],
      "metadata": {
        "id": "HMjh8_0RnQyT"
      },
      "execution_count": 854,
      "outputs": []
    },
    {
      "cell_type": "code",
      "source": [
        "Agrupando_avaliação"
      ],
      "metadata": {
        "id": "VnuFp1Evn0Sj",
        "colab": {
          "base_uri": "https://localhost:8080/",
          "height": 237
        },
        "outputId": "6760c286-8735-4d27-b499-6ff041d3facc"
      },
      "execution_count": 855,
      "outputs": [
        {
          "output_type": "execute_result",
          "data": {
            "text/plain": [
              "         Linha de produto  Avaliação\n",
              "0  Acessórios eletrônicos       61.4\n",
              "1     Acessórios fashions       64.8\n",
              "2   Casa e estilo de vida       63.0\n",
              "3        Comida e bebidas       63.2\n",
              "4      Esportes e viagens       60.4\n",
              "5          Saúde e beleza       62.3"
            ],
            "text/html": [
              "\n",
              "  <div id=\"df-7eb90af0-bc10-4ff8-9e03-dc09fcd53397\">\n",
              "    <div class=\"colab-df-container\">\n",
              "      <div>\n",
              "<style scoped>\n",
              "    .dataframe tbody tr th:only-of-type {\n",
              "        vertical-align: middle;\n",
              "    }\n",
              "\n",
              "    .dataframe tbody tr th {\n",
              "        vertical-align: top;\n",
              "    }\n",
              "\n",
              "    .dataframe thead th {\n",
              "        text-align: right;\n",
              "    }\n",
              "</style>\n",
              "<table border=\"1\" class=\"dataframe\">\n",
              "  <thead>\n",
              "    <tr style=\"text-align: right;\">\n",
              "      <th></th>\n",
              "      <th>Linha de produto</th>\n",
              "      <th>Avaliação</th>\n",
              "    </tr>\n",
              "  </thead>\n",
              "  <tbody>\n",
              "    <tr>\n",
              "      <th>0</th>\n",
              "      <td>Acessórios eletrônicos</td>\n",
              "      <td>61.4</td>\n",
              "    </tr>\n",
              "    <tr>\n",
              "      <th>1</th>\n",
              "      <td>Acessórios fashions</td>\n",
              "      <td>64.8</td>\n",
              "    </tr>\n",
              "    <tr>\n",
              "      <th>2</th>\n",
              "      <td>Casa e estilo de vida</td>\n",
              "      <td>63.0</td>\n",
              "    </tr>\n",
              "    <tr>\n",
              "      <th>3</th>\n",
              "      <td>Comida e bebidas</td>\n",
              "      <td>63.2</td>\n",
              "    </tr>\n",
              "    <tr>\n",
              "      <th>4</th>\n",
              "      <td>Esportes e viagens</td>\n",
              "      <td>60.4</td>\n",
              "    </tr>\n",
              "    <tr>\n",
              "      <th>5</th>\n",
              "      <td>Saúde e beleza</td>\n",
              "      <td>62.3</td>\n",
              "    </tr>\n",
              "  </tbody>\n",
              "</table>\n",
              "</div>\n",
              "      <button class=\"colab-df-convert\" onclick=\"convertToInteractive('df-7eb90af0-bc10-4ff8-9e03-dc09fcd53397')\"\n",
              "              title=\"Convert this dataframe to an interactive table.\"\n",
              "              style=\"display:none;\">\n",
              "        \n",
              "  <svg xmlns=\"http://www.w3.org/2000/svg\" height=\"24px\"viewBox=\"0 0 24 24\"\n",
              "       width=\"24px\">\n",
              "    <path d=\"M0 0h24v24H0V0z\" fill=\"none\"/>\n",
              "    <path d=\"M18.56 5.44l.94 2.06.94-2.06 2.06-.94-2.06-.94-.94-2.06-.94 2.06-2.06.94zm-11 1L8.5 8.5l.94-2.06 2.06-.94-2.06-.94L8.5 2.5l-.94 2.06-2.06.94zm10 10l.94 2.06.94-2.06 2.06-.94-2.06-.94-.94-2.06-.94 2.06-2.06.94z\"/><path d=\"M17.41 7.96l-1.37-1.37c-.4-.4-.92-.59-1.43-.59-.52 0-1.04.2-1.43.59L10.3 9.45l-7.72 7.72c-.78.78-.78 2.05 0 2.83L4 21.41c.39.39.9.59 1.41.59.51 0 1.02-.2 1.41-.59l7.78-7.78 2.81-2.81c.8-.78.8-2.07 0-2.86zM5.41 20L4 18.59l7.72-7.72 1.47 1.35L5.41 20z\"/>\n",
              "  </svg>\n",
              "      </button>\n",
              "      \n",
              "  <style>\n",
              "    .colab-df-container {\n",
              "      display:flex;\n",
              "      flex-wrap:wrap;\n",
              "      gap: 12px;\n",
              "    }\n",
              "\n",
              "    .colab-df-convert {\n",
              "      background-color: #E8F0FE;\n",
              "      border: none;\n",
              "      border-radius: 50%;\n",
              "      cursor: pointer;\n",
              "      display: none;\n",
              "      fill: #1967D2;\n",
              "      height: 32px;\n",
              "      padding: 0 0 0 0;\n",
              "      width: 32px;\n",
              "    }\n",
              "\n",
              "    .colab-df-convert:hover {\n",
              "      background-color: #E2EBFA;\n",
              "      box-shadow: 0px 1px 2px rgba(60, 64, 67, 0.3), 0px 1px 3px 1px rgba(60, 64, 67, 0.15);\n",
              "      fill: #174EA6;\n",
              "    }\n",
              "\n",
              "    [theme=dark] .colab-df-convert {\n",
              "      background-color: #3B4455;\n",
              "      fill: #D2E3FC;\n",
              "    }\n",
              "\n",
              "    [theme=dark] .colab-df-convert:hover {\n",
              "      background-color: #434B5C;\n",
              "      box-shadow: 0px 1px 3px 1px rgba(0, 0, 0, 0.15);\n",
              "      filter: drop-shadow(0px 1px 2px rgba(0, 0, 0, 0.3));\n",
              "      fill: #FFFFFF;\n",
              "    }\n",
              "  </style>\n",
              "\n",
              "      <script>\n",
              "        const buttonEl =\n",
              "          document.querySelector('#df-7eb90af0-bc10-4ff8-9e03-dc09fcd53397 button.colab-df-convert');\n",
              "        buttonEl.style.display =\n",
              "          google.colab.kernel.accessAllowed ? 'block' : 'none';\n",
              "\n",
              "        async function convertToInteractive(key) {\n",
              "          const element = document.querySelector('#df-7eb90af0-bc10-4ff8-9e03-dc09fcd53397');\n",
              "          const dataTable =\n",
              "            await google.colab.kernel.invokeFunction('convertToInteractive',\n",
              "                                                     [key], {});\n",
              "          if (!dataTable) return;\n",
              "\n",
              "          const docLinkHtml = 'Like what you see? Visit the ' +\n",
              "            '<a target=\"_blank\" href=https://colab.research.google.com/notebooks/data_table.ipynb>data table notebook</a>'\n",
              "            + ' to learn more about interactive tables.';\n",
              "          element.innerHTML = '';\n",
              "          dataTable['output_type'] = 'display_data';\n",
              "          await google.colab.output.renderOutput(dataTable, element);\n",
              "          const docLink = document.createElement('div');\n",
              "          docLink.innerHTML = docLinkHtml;\n",
              "          element.appendChild(docLink);\n",
              "        }\n",
              "      </script>\n",
              "    </div>\n",
              "  </div>\n",
              "  "
            ]
          },
          "metadata": {},
          "execution_count": 855
        }
      ]
    },
    {
      "cell_type": "markdown",
      "source": [
        "# Por que ascending está falso?\n",
        "\n",
        "Pois o trexo de código abaixo deixa os valores do maior para o menor, ou seja, decescente."
      ],
      "metadata": {
        "id": "o-3vH-ccEM4s"
      }
    },
    {
      "cell_type": "code",
      "source": [
        "Agrupando_avaliação = Agrupando_avaliação.sort_values(by = 'Avaliação', ascending = False)\n"
      ],
      "metadata": {
        "id": "BDpb7daEoGA9"
      },
      "execution_count": 856,
      "outputs": []
    },
    {
      "cell_type": "code",
      "source": [
        "Figura = sns.color_palette('gnuplot')\n",
        "Figura.reverse()"
      ],
      "metadata": {
        "id": "3Ds0uqjPoQQR"
      },
      "execution_count": 857,
      "outputs": []
    },
    {
      "cell_type": "markdown",
      "source": [
        "# Explique de maneira resumida o que foi feito:\n",
        "\n",
        "Foi feito um gráfico entre Linha de produto e Avaliação.\n",
        "As funções abaixo criam o gráfico, aumentando o tamanho da imagem, da letra e afins.\n",
        "\n",
        "É alterado o nome de Avliação para Avaliação dos Clientes."
      ],
      "metadata": {
        "id": "12aVycdvFISp"
      }
    },
    {
      "cell_type": "code",
      "source": [
        "ax = sns.barplot(y = 'Linha de produto', x = 'Avaliação', data = Agrupando_avaliação, palette = Figura)\n",
        "plt.rcParams['figure.figsize'] = (18, 10) #Aumentar o tamanho da Figura\n",
        "ax.set_xlabel('Avaliação dos Clientes')\n",
        "plt.rcParams.update({\"font.size\": 18}) #Aumentar a letra\n",
        "plt.savefig('Linha_x_avaliacao.png', dpi=300)\n",
        "     "
      ],
      "metadata": {
        "id": "oghYb7pooaxS",
        "colab": {
          "base_uri": "https://localhost:8080/",
          "height": 455
        },
        "outputId": "f0c225e3-e730-4e47-a183-01bb23df0af0"
      },
      "execution_count": 858,
      "outputs": [
        {
          "output_type": "display_data",
          "data": {
            "text/plain": [
              "<Figure size 640x480 with 1 Axes>"
            ],
            "image/png": "[encoded data removed]"
          },
          "metadata": {}
        }
      ]
    },
    {
      "cell_type": "markdown",
      "source": [
        "# Qual é a linha de produto mais bem avaliada? Levante hipótese sobre esse resultado?\n",
        "\n",
        "Assessórios Fashion, pois a avaliação maior, que se aproxima da maior nota possível é dessa linha de produto."
      ],
      "metadata": {
        "id": "y6t7d-6JFyAs"
      }
    },
    {
      "cell_type": "code",
      "source": [
        "#Qual linha de produto tem a maior média de vendas (renda bruta)?"
      ],
      "metadata": {
        "id": "SVYF-3V4JoPO"
      },
      "execution_count": 859,
      "outputs": []
    },
    {
      "cell_type": "markdown",
      "source": [
        "# O faz a função abaixo?\n",
        "\n",
        "Está agrupando as Colunas Linha de Produto e Total."
      ],
      "metadata": {
        "id": "LnQLcjseGK9f"
      }
    },
    {
      "cell_type": "code",
      "source": [
        "agrupando_Produto_Total=df.groupby('Linha de produto')['Total'].mean().reset_index(drop=False)"
      ],
      "metadata": {
        "id": "c4eQDY23K6sP"
      },
      "execution_count": 860,
      "outputs": []
    },
    {
      "cell_type": "code",
      "source": [
        "agrupando_Produto_Total"
      ],
      "metadata": {
        "colab": {
          "base_uri": "https://localhost:8080/",
          "height": 237
        },
        "id": "WpttD2qhLj52",
        "outputId": "ca38529d-6a10-4f99-ac7f-1350ce232101"
      },
      "execution_count": 861,
      "outputs": [
        {
          "output_type": "execute_result",
          "data": {
            "text/plain": [
              "         Linha de produto        Total\n",
              "0  Acessórios eletrônicos  4278.573529\n",
              "1     Acessórios fashions  4043.292135\n",
              "2   Casa e estilo de vida  4455.973125\n",
              "3        Comida e bebidas  3912.985345\n",
              "4      Esportes e viagens  4351.833434\n",
              "5          Saúde e beleza  4024.018421"
            ],
            "text/html": [
              "\n",
              "  <div id=\"df-a44b9a37-a5b5-4027-98a8-c1c4d852cb0e\">\n",
              "    <div class=\"colab-df-container\">\n",
              "      <div>\n",
              "<style scoped>\n",
              "    .dataframe tbody tr th:only-of-type {\n",
              "        vertical-align: middle;\n",
              "    }\n",
              "\n",
              "    .dataframe tbody tr th {\n",
              "        vertical-align: top;\n",
              "    }\n",
              "\n",
              "    .dataframe thead th {\n",
              "        text-align: right;\n",
              "    }\n",
              "</style>\n",
              "<table border=\"1\" class=\"dataframe\">\n",
              "  <thead>\n",
              "    <tr style=\"text-align: right;\">\n",
              "      <th></th>\n",
              "      <th>Linha de produto</th>\n",
              "      <th>Total</th>\n",
              "    </tr>\n",
              "  </thead>\n",
              "  <tbody>\n",
              "    <tr>\n",
              "      <th>0</th>\n",
              "      <td>Acessórios eletrônicos</td>\n",
              "      <td>4278.573529</td>\n",
              "    </tr>\n",
              "    <tr>\n",
              "      <th>1</th>\n",
              "      <td>Acessórios fashions</td>\n",
              "      <td>4043.292135</td>\n",
              "    </tr>\n",
              "    <tr>\n",
              "      <th>2</th>\n",
              "      <td>Casa e estilo de vida</td>\n",
              "      <td>4455.973125</td>\n",
              "    </tr>\n",
              "    <tr>\n",
              "      <th>3</th>\n",
              "      <td>Comida e bebidas</td>\n",
              "      <td>3912.985345</td>\n",
              "    </tr>\n",
              "    <tr>\n",
              "      <th>4</th>\n",
              "      <td>Esportes e viagens</td>\n",
              "      <td>4351.833434</td>\n",
              "    </tr>\n",
              "    <tr>\n",
              "      <th>5</th>\n",
              "      <td>Saúde e beleza</td>\n",
              "      <td>4024.018421</td>\n",
              "    </tr>\n",
              "  </tbody>\n",
              "</table>\n",
              "</div>\n",
              "      <button class=\"colab-df-convert\" onclick=\"convertToInteractive('df-a44b9a37-a5b5-4027-98a8-c1c4d852cb0e')\"\n",
              "              title=\"Convert this dataframe to an interactive table.\"\n",
              "              style=\"display:none;\">\n",
              "        \n",
              "  <svg xmlns=\"http://www.w3.org/2000/svg\" height=\"24px\"viewBox=\"0 0 24 24\"\n",
              "       width=\"24px\">\n",
              "    <path d=\"M0 0h24v24H0V0z\" fill=\"none\"/>\n",
              "    <path d=\"M18.56 5.44l.94 2.06.94-2.06 2.06-.94-2.06-.94-.94-2.06-.94 2.06-2.06.94zm-11 1L8.5 8.5l.94-2.06 2.06-.94-2.06-.94L8.5 2.5l-.94 2.06-2.06.94zm10 10l.94 2.06.94-2.06 2.06-.94-2.06-.94-.94-2.06-.94 2.06-2.06.94z\"/><path d=\"M17.41 7.96l-1.37-1.37c-.4-.4-.92-.59-1.43-.59-.52 0-1.04.2-1.43.59L10.3 9.45l-7.72 7.72c-.78.78-.78 2.05 0 2.83L4 21.41c.39.39.9.59 1.41.59.51 0 1.02-.2 1.41-.59l7.78-7.78 2.81-2.81c.8-.78.8-2.07 0-2.86zM5.41 20L4 18.59l7.72-7.72 1.47 1.35L5.41 20z\"/>\n",
              "  </svg>\n",
              "      </button>\n",
              "      \n",
              "  <style>\n",
              "    .colab-df-container {\n",
              "      display:flex;\n",
              "      flex-wrap:wrap;\n",
              "      gap: 12px;\n",
              "    }\n",
              "\n",
              "    .colab-df-convert {\n",
              "      background-color: #E8F0FE;\n",
              "      border: none;\n",
              "      border-radius: 50%;\n",
              "      cursor: pointer;\n",
              "      display: none;\n",
              "      fill: #1967D2;\n",
              "      height: 32px;\n",
              "      padding: 0 0 0 0;\n",
              "      width: 32px;\n",
              "    }\n",
              "\n",
              "    .colab-df-convert:hover {\n",
              "      background-color: #E2EBFA;\n",
              "      box-shadow: 0px 1px 2px rgba(60, 64, 67, 0.3), 0px 1px 3px 1px rgba(60, 64, 67, 0.15);\n",
              "      fill: #174EA6;\n",
              "    }\n",
              "\n",
              "    [theme=dark] .colab-df-convert {\n",
              "      background-color: #3B4455;\n",
              "      fill: #D2E3FC;\n",
              "    }\n",
              "\n",
              "    [theme=dark] .colab-df-convert:hover {\n",
              "      background-color: #434B5C;\n",
              "      box-shadow: 0px 1px 3px 1px rgba(0, 0, 0, 0.15);\n",
              "      filter: drop-shadow(0px 1px 2px rgba(0, 0, 0, 0.3));\n",
              "      fill: #FFFFFF;\n",
              "    }\n",
              "  </style>\n",
              "\n",
              "      <script>\n",
              "        const buttonEl =\n",
              "          document.querySelector('#df-a44b9a37-a5b5-4027-98a8-c1c4d852cb0e button.colab-df-convert');\n",
              "        buttonEl.style.display =\n",
              "          google.colab.kernel.accessAllowed ? 'block' : 'none';\n",
              "\n",
              "        async function convertToInteractive(key) {\n",
              "          const element = document.querySelector('#df-a44b9a37-a5b5-4027-98a8-c1c4d852cb0e');\n",
              "          const dataTable =\n",
              "            await google.colab.kernel.invokeFunction('convertToInteractive',\n",
              "                                                     [key], {});\n",
              "          if (!dataTable) return;\n",
              "\n",
              "          const docLinkHtml = 'Like what you see? Visit the ' +\n",
              "            '<a target=\"_blank\" href=https://colab.research.google.com/notebooks/data_table.ipynb>data table notebook</a>'\n",
              "            + ' to learn more about interactive tables.';\n",
              "          element.innerHTML = '';\n",
              "          dataTable['output_type'] = 'display_data';\n",
              "          await google.colab.output.renderOutput(dataTable, element);\n",
              "          const docLink = document.createElement('div');\n",
              "          docLink.innerHTML = docLinkHtml;\n",
              "          element.appendChild(docLink);\n",
              "        }\n",
              "      </script>\n",
              "    </div>\n",
              "  </div>\n",
              "  "
            ]
          },
          "metadata": {},
          "execution_count": 861
        }
      ]
    },
    {
      "cell_type": "code",
      "source": [
        "agrupando_Produto_Total = agrupando_Produto_Total.round(1)"
      ],
      "metadata": {
        "id": "XCSEGsaaMLiB"
      },
      "execution_count": 862,
      "outputs": []
    },
    {
      "cell_type": "markdown",
      "source": [
        "# Mude o gráfico abaixo para barras:"
      ],
      "metadata": {
        "id": "ni6FbxvAHOZF"
      }
    },
    {
      "cell_type": "code",
      "source": [
        "fig, ax = plt.subplots(figsize=(16,12))\n",
        "ax = sns.barplot(x = 'Linha de produto', y = 'Total', data = agrupando_Produto_Total, ax = ax)\n",
        "plt.axhline(y=np.nanmean(df.Total), color='red', linestyle='--', linewidth=3, label='Média')\n",
        "plt.xticks(rotation = 45)"
      ],
      "metadata": {
        "colab": {
          "base_uri": "https://localhost:8080/",
          "height": 1000
        },
        "id": "t9PiQ9XjLr1i",
        "outputId": "edf478c5-5454-4dae-b3b9-dbc3c1336a88"
      },
      "execution_count": 863,
      "outputs": [
        {
          "output_type": "execute_result",
          "data": {
            "text/plain": [
              "(array([0, 1, 2, 3, 4, 5]),\n",
              " [Text(0, 0, 'Acessórios eletrônicos'),\n",
              "  Text(1, 0, 'Acessórios fashions'),\n",
              "  Text(2, 0, 'Casa e estilo de vida'),\n",
              "  Text(3, 0, 'Comida e bebidas'),\n",
              "  Text(4, 0, 'Esportes e viagens'),\n",
              "  Text(5, 0, 'Saúde e beleza')])"
            ]
          },
          "metadata": {},
          "execution_count": 863
        },
        {
          "output_type": "display_data",
          "data": {
            "text/plain": [
              "<Figure size 1280x960 with 1 Axes>"
            ],
            "image/png": "[encoded data removed]"
          },
          "metadata": {}
        }
      ]
    },
    {
      "cell_type": "markdown",
      "source": [
        "# Explique o gráfico acima\n",
        "\n",
        "O gráfico acima trás uma média de compra total dos produtos.\n",
        "Os produtos acima da linha vermelha estão acima da média, e da mesma forma os que estão abaixo da linha vermelha, estão abaixo da média."
      ],
      "metadata": {
        "id": "Bz9is-CvmihM"
      }
    },
    {
      "cell_type": "code",
      "source": [
        "#Qual é a filial que tem a maior média de vendas(valor bruto)?"
      ],
      "metadata": {
        "id": "h5W9Z84xMx5e"
      },
      "execution_count": 864,
      "outputs": []
    },
    {
      "cell_type": "markdown",
      "source": [
        "# Explique a função abaixo:\n",
        "\n",
        "\n",
        "\n",
        "Está agrupando as colunas filial e total.\n"
      ],
      "metadata": {
        "id": "26s9vVjfnEIh"
      }
    },
    {
      "cell_type": "code",
      "source": [
        "agrupando_Filial_Total=df.groupby('Filial')['Total'].mean().reset_index(drop=False)"
      ],
      "metadata": {
        "id": "KdPJSVrmQi1_"
      },
      "execution_count": 865,
      "outputs": []
    },
    {
      "cell_type": "markdown",
      "source": [
        "# Explique o gráfico acima:\n",
        "\n",
        "É um gráfico que trás uma média de valor por filial.\n",
        "Novamente, o que passar da linha vermelha, está acima da média e o que estiver abaixo da linha vermelha, está abaixo da média."
      ],
      "metadata": {
        "id": "nBiMyUVynp6Q"
      }
    },
    {
      "cell_type": "code",
      "source": [
        "agrupando_Filial_Total = agrupando_Filial_Total.round(1)\n",
        "fig, ax = plt.subplots(figsize=(16,12))\n",
        "ax = sns.scatterplot(x = 'Filial', y = 'Total', data = agrupando_Filial_Total, s = 75)\n",
        "plt.axhline(y=np.nanmean(df.Total), color='red', linestyle='--', linewidth=3, label='Média')\n",
        "plt.xticks(rotation = 45)"
      ],
      "metadata": {
        "id": "O598j1GYnF6-",
        "colab": {
          "base_uri": "https://localhost:8080/",
          "height": 884
        },
        "outputId": "ff4d3099-b3e2-4827-eeb4-c35cb14eef09"
      },
      "execution_count": 866,
      "outputs": [
        {
          "output_type": "execute_result",
          "data": {
            "text/plain": [
              "([0, 1, 2], [Text(0, 0, 'A'), Text(1, 0, 'B'), Text(2, 0, 'C')])"
            ]
          },
          "metadata": {},
          "execution_count": 866
        },
        {
          "output_type": "display_data",
          "data": {
            "text/plain": [
              "<Figure size 1280x960 with 1 Axes>"
            ],
            "image/png": "[encoded data removed]"
          },
          "metadata": {}
        }
      ]
    },
    {
      "cell_type": "code",
      "source": [
        "#Distribuição das vendas em função da linha de produtos."
      ],
      "metadata": {
        "id": "8WZium56SRHO"
      },
      "execution_count": 867,
      "outputs": []
    },
    {
      "cell_type": "markdown",
      "source": [
        "# Explique o gráfico a seguir, o que significa?\n",
        "\n",
        "Está mostrando os tipos e a quantidade de produtos compravos.\n",
        "Pode-se identificar que esse gráfico é mais assertivo na quantidade, pois a linha fica maior quando a quantidade é maior, fazendo também uma média por quantidade.\n",
        "Exemplo, quem compra produtos de Saúde e Beleza, compram entre três e oito produtos"
      ],
      "metadata": {
        "id": "MYnYrKpEoKHQ"
      }
    },
    {
      "cell_type": "code",
      "source": [
        "fig, ax = plt.subplots(figsize=(16,12))\n",
        "ax = sns.boxenplot(y='Linha de produto', x = 'Quantidade', data=df)"
      ],
      "metadata": {
        "colab": {
          "base_uri": "https://localhost:8080/",
          "height": 776
        },
        "id": "DNn47uLJTWur",
        "outputId": "d3ca19d6-b1a7-4f08-8204-16c1a59e348d"
      },
      "execution_count": 868,
      "outputs": [
        {
          "output_type": "display_data",
          "data": {
            "text/plain": [
              "<Figure size 1280x960 with 1 Axes>"
            ],
            "image/png": "[encoded data removed]"
          },
          "metadata": {}
        }
      ]
    },
    {
      "cell_type": "code",
      "source": [
        "#Quantidade em função dos três meses."
      ],
      "metadata": {
        "id": "YpPjN6c_Ttyj"
      },
      "execution_count": 869,
      "outputs": []
    },
    {
      "cell_type": "markdown",
      "source": [
        "# Por que 'Quantidade' está acompanhado sum()?\n",
        "\n",
        "Pois está efetuando a soma dos produtos comprados naquele determinado período de tempo (meses).\n"
      ],
      "metadata": {
        "id": "HpOgWQmto4Wi"
      }
    },
    {
      "cell_type": "code",
      "source": [
        "Agrupando_Data_Quantidade = df.groupby('Data')['Quantidade'].sum().reset_index(drop=False)\n"
      ],
      "metadata": {
        "id": "zxgYDVygWAZB"
      },
      "execution_count": 870,
      "outputs": []
    },
    {
      "cell_type": "code",
      "source": [
        "new_index = [1, 0, 2]"
      ],
      "metadata": {
        "id": "Xe8zyAUjqYwj"
      },
      "execution_count": 871,
      "outputs": []
    },
    {
      "cell_type": "code",
      "source": [
        "Agrupando_Data_Quantidade = Agrupando_Data_Quantidade.reindex(new_index)"
      ],
      "metadata": {
        "id": "1iSXBiz2YX04"
      },
      "execution_count": 872,
      "outputs": []
    },
    {
      "cell_type": "markdown",
      "source": [
        "# Mude para gráfico de barras:\n"
      ],
      "metadata": {
        "id": "Dhmd7OhhnXri"
      }
    },
    {
      "cell_type": "code",
      "source": [
        "fig, ax = plt.subplots(figsize=(16,12))\n",
        "ax = sns.barplot(x = 'Filial', y = 'Total', data = agrupando_Filial_Total , ax=ax)\n",
        "plt.axhline(y=np.nanmean(df.Total), color='red', linestyle='--', linewidth=3, label='Média')\n",
        "plt.xticks(rotation = 45)"
      ],
      "metadata": {
        "colab": {
          "base_uri": "https://localhost:8080/",
          "height": 884
        },
        "id": "7GbXcnY4ZZ1_",
        "outputId": "444d7804-1bf1-43bd-bdd4-5fd4b4bf9a81"
      },
      "execution_count": 873,
      "outputs": [
        {
          "output_type": "execute_result",
          "data": {
            "text/plain": [
              "(array([0, 1, 2]), [Text(0, 0, 'A'), Text(1, 0, 'B'), Text(2, 0, 'C')])"
            ]
          },
          "metadata": {},
          "execution_count": 873
        },
        {
          "output_type": "display_data",
          "data": {
            "text/plain": [
              "<Figure size 1280x960 with 1 Axes>"
            ],
            "image/png": "[encoded data removed]"
          },
          "metadata": {}
        }
      ]
    },
    {
      "cell_type": "markdown",
      "source": [
        "# Explique o gráfico acima, o que significa?\n",
        "\n",
        "\n",
        "\n",
        "Está datando a quantidade de vendas por mês."
      ],
      "metadata": {
        "id": "4K71Al4LpKdo"
      }
    },
    {
      "cell_type": "code",
      "source": [
        "##([0, 1, 2], [Text(0, 0, 'A'), Text(1, 0, 'B'), Text(2, 0, 'C')])\n"
      ],
      "metadata": {
        "id": "xWWT_fqyngjy"
      },
      "execution_count": 874,
      "outputs": []
    },
    {
      "cell_type": "code",
      "source": [
        "Agrupando_Data_Quantidade = Agrupando_Data_Quantidade.reindex(new_index) # salvando\n"
      ],
      "metadata": {
        "id": "O3KARWzbpdYd"
      },
      "execution_count": 875,
      "outputs": []
    },
    {
      "cell_type": "markdown",
      "source": [
        "# Explique o código acima:\n",
        "\n",
        "Está salvando o agrupameno feito e a numeração informada dos meses."
      ],
      "metadata": {
        "id": "rnTjhv_opi8F"
      }
    },
    {
      "cell_type": "code",
      "source": [
        "#Proporção dos tipos de cliente(Normal e Associado)"
      ],
      "metadata": {
        "id": "EeGUpJCHgPGk"
      },
      "execution_count": 876,
      "outputs": []
    },
    {
      "cell_type": "markdown",
      "source": [
        "# Explique detalhamente o código abaixo:\n",
        "\n",
        "plt.style.use('classic') e plt.style.use('bmh') - Está criando um estilo clássico do gráfico de pizza.\n",
        "\n",
        "df.groupby('Tipo de Cliente').count()['Total'].plot(kind='pie', autopct='%.1f', figsize=(16,12), subplots=True, wedgeprops=dict(width=0.20)) - está deixando apenas a borda e definindo tamanho, altura, largura e trazendo o Total vendido entre Clientes Normal e Associado.\n"
      ],
      "metadata": {
        "id": "kxUoPoohpw8V"
      }
    },
    {
      "cell_type": "code",
      "source": [
        "plt.style.use('classic')\n",
        "plt.style.use('bmh')\n",
        "df.groupby('Tipo de Cliente').count()['Total'].plot(kind='pie', autopct='%.1f', figsize=(16,12), subplots=True, wedgeprops=dict(width=0.20))"
      ],
      "metadata": {
        "colab": {
          "base_uri": "https://localhost:8080/",
          "height": 818
        },
        "id": "OEieUw41iCcv",
        "outputId": "2db07870-bd2b-4ff8-e4eb-87e8ac7aa1bb"
      },
      "execution_count": 877,
      "outputs": [
        {
          "output_type": "execute_result",
          "data": {
            "text/plain": [
              "array([<Axes: ylabel='Total'>], dtype=object)"
            ]
          },
          "metadata": {},
          "execution_count": 877
        },
        {
          "output_type": "display_data",
          "data": {
            "text/plain": [
              "<Figure size 1280x960 with 1 Axes>"
            ],
            "image/png": "[encoded data removed]"
          },
          "metadata": {}
        }
      ]
    },
    {
      "cell_type": "code",
      "source": [
        "df.groupby('Tipo de Cliente').count()['Total']\n"
      ],
      "metadata": {
        "id": "jwo_OgaAqki4",
        "colab": {
          "base_uri": "https://localhost:8080/"
        },
        "outputId": "90253fa5-463d-4eaa-e18f-9af6dd4a6d5c"
      },
      "execution_count": 878,
      "outputs": [
        {
          "output_type": "execute_result",
          "data": {
            "text/plain": [
              "Tipo de Cliente\n",
              "Associado    501\n",
              "Normal       499\n",
              "Name: Total, dtype: int64"
            ]
          },
          "metadata": {},
          "execution_count": 878
        }
      ]
    },
    {
      "cell_type": "markdown",
      "source": [
        "# Está coerente o gráfico acima?\n",
        "\n",
        "Pela lógica sim, porém poderia ser arredondado, pela direfença ser mínima."
      ],
      "metadata": {
        "id": "CBl_QWMCqgcU"
      }
    },
    {
      "cell_type": "code",
      "source": [
        "#Qual o tipo de pagamento mais comum?"
      ],
      "metadata": {
        "id": "ltfFDxvWltJx"
      },
      "execution_count": 879,
      "outputs": []
    },
    {
      "cell_type": "markdown",
      "source": [
        "# Explique o código abaixo:\n",
        "\n",
        "Trás um estilo clássico do gráfico de pizza e define o tamanho, altura, largura.\n",
        "Mostra as formas de pagamento junto ao total de compras.\n",
        "Basicamente informando a porcentagem de formas de pagamento dos clientes."
      ],
      "metadata": {
        "id": "wNCh2CgJq1Dz"
      }
    },
    {
      "cell_type": "code",
      "source": [
        "plt.style.use('classic')\n",
        "plt.style.use('bmh')\n",
        "df.groupby('Pagamento').count()['Total'].plot(kind='pie', autopct='%.1f', figsize=(16,12), subplots=True, wedgeprops=dict(width=0.20))"
      ],
      "metadata": {
        "colab": {
          "base_uri": "https://localhost:8080/",
          "height": 818
        },
        "id": "7pKnZJj6l9va",
        "outputId": "a66dce31-2717-4d3d-ca5c-79888f9cd0af"
      },
      "execution_count": 880,
      "outputs": [
        {
          "output_type": "execute_result",
          "data": {
            "text/plain": [
              "array([<Axes: ylabel='Total'>], dtype=object)"
            ]
          },
          "metadata": {},
          "execution_count": 880
        },
        {
          "output_type": "display_data",
          "data": {
            "text/plain": [
              "<Figure size 1280x960 with 1 Axes>"
            ],
            "image/png": "[encoded data removed]"
          },
          "metadata": {}
        }
      ]
    },
    {
      "cell_type": "markdown",
      "source": [
        "# O que significa o gráfico acima? Monte uma hipótese para esse resultado?\n",
        "\n",
        "Pega o total dos recebimentos e filtra quais são as formas de pagamento mais utilizada pelos clientes.\n",
        "Pode ser identificado uma divisão bem próxima entre as três formas de pagamento. \n",
        "E também, pode-se imaginar que a maioria dos clientes possuem bastante dinheiro em espécime, pois a quantidade de pagamentos a vista (em dinheiro e pix) é superior a pagamentos em crédito."
      ],
      "metadata": {
        "id": "nOF-hyMDGr6e"
      }
    },
    {
      "cell_type": "code",
      "source": [
        "#Qual parte do dia mais rende money?"
      ],
      "metadata": {
        "id": "m73QcMN0nbVL"
      },
      "execution_count": 881,
      "outputs": []
    },
    {
      "cell_type": "markdown",
      "source": [
        "# Explique o código a seguir?\n",
        "\n",
        "Está sendo agrupado o Total de recebimentos com o horário em que mais ocorre esses recebimentos"
      ],
      "metadata": {
        "id": "XuBIzZ_tHUwa"
      }
    },
    {
      "cell_type": "code",
      "source": [
        "agrupamento_Horario_Total = df.groupby('Horário')['Total'].mean().reset_index(drop=False)\n",
        "agrupamento_Horario_Total"
      ],
      "metadata": {
        "colab": {
          "base_uri": "https://localhost:8080/",
          "height": 143
        },
        "id": "TdAODEGonvtg",
        "outputId": "3f44f196-2be4-4dd2-e36f-059649fd0f47"
      },
      "execution_count": 882,
      "outputs": [
        {
          "output_type": "execute_result",
          "data": {
            "text/plain": [
              "  Horário        Total\n",
              "0   Manhã  4077.974464\n",
              "1   Noite  4196.399202\n",
              "2   Tarde  4218.379511"
            ],
            "text/html": [
              "\n",
              "  <div id=\"df-b2bbf36a-66f4-4076-8aca-eaac823c4c1e\">\n",
              "    <div class=\"colab-df-container\">\n",
              "      <div>\n",
              "<style scoped>\n",
              "    .dataframe tbody tr th:only-of-type {\n",
              "        vertical-align: middle;\n",
              "    }\n",
              "\n",
              "    .dataframe tbody tr th {\n",
              "        vertical-align: top;\n",
              "    }\n",
              "\n",
              "    .dataframe thead th {\n",
              "        text-align: right;\n",
              "    }\n",
              "</style>\n",
              "<table border=\"1\" class=\"dataframe\">\n",
              "  <thead>\n",
              "    <tr style=\"text-align: right;\">\n",
              "      <th></th>\n",
              "      <th>Horário</th>\n",
              "      <th>Total</th>\n",
              "    </tr>\n",
              "  </thead>\n",
              "  <tbody>\n",
              "    <tr>\n",
              "      <th>0</th>\n",
              "      <td>Manhã</td>\n",
              "      <td>4077.974464</td>\n",
              "    </tr>\n",
              "    <tr>\n",
              "      <th>1</th>\n",
              "      <td>Noite</td>\n",
              "      <td>4196.399202</td>\n",
              "    </tr>\n",
              "    <tr>\n",
              "      <th>2</th>\n",
              "      <td>Tarde</td>\n",
              "      <td>4218.379511</td>\n",
              "    </tr>\n",
              "  </tbody>\n",
              "</table>\n",
              "</div>\n",
              "      <button class=\"colab-df-convert\" onclick=\"convertToInteractive('df-b2bbf36a-66f4-4076-8aca-eaac823c4c1e')\"\n",
              "              title=\"Convert this dataframe to an interactive table.\"\n",
              "              style=\"display:none;\">\n",
              "        \n",
              "  <svg xmlns=\"http://www.w3.org/2000/svg\" height=\"24px\"viewBox=\"0 0 24 24\"\n",
              "       width=\"24px\">\n",
              "    <path d=\"M0 0h24v24H0V0z\" fill=\"none\"/>\n",
              "    <path d=\"M18.56 5.44l.94 2.06.94-2.06 2.06-.94-2.06-.94-.94-2.06-.94 2.06-2.06.94zm-11 1L8.5 8.5l.94-2.06 2.06-.94-2.06-.94L8.5 2.5l-.94 2.06-2.06.94zm10 10l.94 2.06.94-2.06 2.06-.94-2.06-.94-.94-2.06-.94 2.06-2.06.94z\"/><path d=\"M17.41 7.96l-1.37-1.37c-.4-.4-.92-.59-1.43-.59-.52 0-1.04.2-1.43.59L10.3 9.45l-7.72 7.72c-.78.78-.78 2.05 0 2.83L4 21.41c.39.39.9.59 1.41.59.51 0 1.02-.2 1.41-.59l7.78-7.78 2.81-2.81c.8-.78.8-2.07 0-2.86zM5.41 20L4 18.59l7.72-7.72 1.47 1.35L5.41 20z\"/>\n",
              "  </svg>\n",
              "      </button>\n",
              "      \n",
              "  <style>\n",
              "    .colab-df-container {\n",
              "      display:flex;\n",
              "      flex-wrap:wrap;\n",
              "      gap: 12px;\n",
              "    }\n",
              "\n",
              "    .colab-df-convert {\n",
              "      background-color: #E8F0FE;\n",
              "      border: none;\n",
              "      border-radius: 50%;\n",
              "      cursor: pointer;\n",
              "      display: none;\n",
              "      fill: #1967D2;\n",
              "      height: 32px;\n",
              "      padding: 0 0 0 0;\n",
              "      width: 32px;\n",
              "    }\n",
              "\n",
              "    .colab-df-convert:hover {\n",
              "      background-color: #E2EBFA;\n",
              "      box-shadow: 0px 1px 2px rgba(60, 64, 67, 0.3), 0px 1px 3px 1px rgba(60, 64, 67, 0.15);\n",
              "      fill: #174EA6;\n",
              "    }\n",
              "\n",
              "    [theme=dark] .colab-df-convert {\n",
              "      background-color: #3B4455;\n",
              "      fill: #D2E3FC;\n",
              "    }\n",
              "\n",
              "    [theme=dark] .colab-df-convert:hover {\n",
              "      background-color: #434B5C;\n",
              "      box-shadow: 0px 1px 3px 1px rgba(0, 0, 0, 0.15);\n",
              "      filter: drop-shadow(0px 1px 2px rgba(0, 0, 0, 0.3));\n",
              "      fill: #FFFFFF;\n",
              "    }\n",
              "  </style>\n",
              "\n",
              "      <script>\n",
              "        const buttonEl =\n",
              "          document.querySelector('#df-b2bbf36a-66f4-4076-8aca-eaac823c4c1e button.colab-df-convert');\n",
              "        buttonEl.style.display =\n",
              "          google.colab.kernel.accessAllowed ? 'block' : 'none';\n",
              "\n",
              "        async function convertToInteractive(key) {\n",
              "          const element = document.querySelector('#df-b2bbf36a-66f4-4076-8aca-eaac823c4c1e');\n",
              "          const dataTable =\n",
              "            await google.colab.kernel.invokeFunction('convertToInteractive',\n",
              "                                                     [key], {});\n",
              "          if (!dataTable) return;\n",
              "\n",
              "          const docLinkHtml = 'Like what you see? Visit the ' +\n",
              "            '<a target=\"_blank\" href=https://colab.research.google.com/notebooks/data_table.ipynb>data table notebook</a>'\n",
              "            + ' to learn more about interactive tables.';\n",
              "          element.innerHTML = '';\n",
              "          dataTable['output_type'] = 'display_data';\n",
              "          await google.colab.output.renderOutput(dataTable, element);\n",
              "          const docLink = document.createElement('div');\n",
              "          docLink.innerHTML = docLinkHtml;\n",
              "          element.appendChild(docLink);\n",
              "        }\n",
              "      </script>\n",
              "    </div>\n",
              "  </div>\n",
              "  "
            ]
          },
          "metadata": {},
          "execution_count": 882
        }
      ]
    },
    {
      "cell_type": "code",
      "source": [
        "new_index = [0, 2, 1]"
      ],
      "metadata": {
        "id": "ZokycvIDpeTH"
      },
      "execution_count": 883,
      "outputs": []
    },
    {
      "cell_type": "code",
      "source": [
        "agrupamento_Horario_Total = agrupamento_Horario_Total.reindex(new_index)"
      ],
      "metadata": {
        "id": "d6aanZo1piP0"
      },
      "execution_count": 884,
      "outputs": []
    },
    {
      "cell_type": "code",
      "source": [
        "sns.lineplot(x = 'Horário', y = 'Total', data = agrupamento_Horario_Total, marker = 'o', markersize = 12, linewidth = 2)"
      ],
      "metadata": {
        "colab": {
          "base_uri": "https://localhost:8080/",
          "height": 478
        },
        "id": "uTG5q06goQ-O",
        "outputId": "97e084c5-3c60-43a3-8d14-9da5ba4195bb"
      },
      "execution_count": 885,
      "outputs": [
        {
          "output_type": "execute_result",
          "data": {
            "text/plain": [
              "<Axes: xlabel='Horário', ylabel='Total'>"
            ]
          },
          "metadata": {},
          "execution_count": 885
        },
        {
          "output_type": "display_data",
          "data": {
            "text/plain": [
              "<Figure size 640x480 with 1 Axes>"
            ],
            "image/png": "[encoded data removed]"
          },
          "metadata": {}
        }
      ]
    },
    {
      "cell_type": "markdown",
      "source": [
        "# Qual sua hipótese em relação ao gráfico acima:\n",
        "\n",
        "O período da tarde é o que mais vende, seguido pelo turno da noite e em sequência, pela manhã."
      ],
      "metadata": {
        "id": "EwshZIC0HiT_"
      }
    },
    {
      "cell_type": "code",
      "source": [
        "df['Lucro'] = df['Total'] - df['COGS']"
      ],
      "metadata": {
        "id": "L8-opHLareIY"
      },
      "execution_count": 886,
      "outputs": []
    },
    {
      "cell_type": "code",
      "source": [
        "df"
      ],
      "metadata": {
        "id": "cn0uIRYAr1rj",
        "outputId": "5fd4515a-814d-479c-b186-9c94fd4f7199",
        "colab": {
          "base_uri": "https://localhost:8080/",
          "height": 606
        }
      },
      "execution_count": 887,
      "outputs": [
        {
          "output_type": "execute_result",
          "data": {
            "text/plain": [
              "    Filial Tipo de Cliente Gênero        Linha de produto  Preço unitário  \\\n",
              "0        A       Associado      F          Saúde e beleza         1120.35   \n",
              "1        C          Normal      F  Acessórios eletrônicos          229.20   \n",
              "2        A          Normal      M   Casa e estilo de vida          694.95   \n",
              "3        A       Associado      M          Saúde e beleza          873.30   \n",
              "4        A          Normal      M      Esportes e viagens         1294.65   \n",
              "..     ...             ...    ...                     ...             ...   \n",
              "995      C          Normal      M          Saúde e beleza          605.25   \n",
              "996      B          Normal      F   Casa e estilo de vida         1460.70   \n",
              "997      A       Associado      M        Comida e bebidas          477.60   \n",
              "998      A          Normal      M   Casa e estilo de vida          987.30   \n",
              "999      A       Associado      F     Acessórios fashions         1325.10   \n",
              "\n",
              "     Quantidade     Total       Data Horário          Pagamento        COGS  \\\n",
              "0             7   7842.45    Janeiro   Tarde                PIX   4705.4700   \n",
              "1             5   1146.00      Março   Manhã           Dinheiro   1031.4000   \n",
              "2             7   4864.65      Março   Tarde  Cartão de Crédito   3405.2550   \n",
              "3             8   6986.40    Janeiro   Noite                PIX   4191.8400   \n",
              "4             7   9062.55  Fevereiro   Manhã                PIX   6796.9125   \n",
              "..          ...       ...        ...     ...                ...         ...   \n",
              "995           1    605.25    Janeiro   Tarde                PIX    363.1500   \n",
              "996          10  14607.00      Março   Tarde                PIX  10224.9000   \n",
              "997           1    477.60  Fevereiro   Tarde           Dinheiro    405.9600   \n",
              "998           1    987.30  Fevereiro   Tarde           Dinheiro    691.1100   \n",
              "999           7   9275.70  Fevereiro   Tarde           Dinheiro   6956.7750   \n",
              "\n",
              "     Avaliação      Lucro  \n",
              "0           91  3136.9800  \n",
              "1           96   114.6000  \n",
              "2           74  1459.3950  \n",
              "3           84  2794.5600  \n",
              "4           53  2265.6375  \n",
              "..         ...        ...  \n",
              "995         62   242.1000  \n",
              "996         44  4382.1000  \n",
              "997         77    71.6400  \n",
              "998         41   296.1900  \n",
              "999         66  2318.9250  \n",
              "\n",
              "[1000 rows x 13 columns]"
            ],
            "text/html": [
              "\n",
              "  <div id=\"df-de12d34a-6485-4dfc-ad17-8664673dd79a\">\n",
              "    <div class=\"colab-df-container\">\n",
              "      <div>\n",
              "<style scoped>\n",
              "    .dataframe tbody tr th:only-of-type {\n",
              "        vertical-align: middle;\n",
              "    }\n",
              "\n",
              "    .dataframe tbody tr th {\n",
              "        vertical-align: top;\n",
              "    }\n",
              "\n",
              "    .dataframe thead th {\n",
              "        text-align: right;\n",
              "    }\n",
              "</style>\n",
              "<table border=\"1\" class=\"dataframe\">\n",
              "  <thead>\n",
              "    <tr style=\"text-align: right;\">\n",
              "      <th></th>\n",
              "      <th>Filial</th>\n",
              "      <th>Tipo de Cliente</th>\n",
              "      <th>Gênero</th>\n",
              "      <th>Linha de produto</th>\n",
              "      <th>Preço unitário</th>\n",
              "      <th>Quantidade</th>\n",
              "      <th>Total</th>\n",
              "      <th>Data</th>\n",
              "      <th>Horário</th>\n",
              "      <th>Pagamento</th>\n",
              "      <th>COGS</th>\n",
              "      <th>Avaliação</th>\n",
              "      <th>Lucro</th>\n",
              "    </tr>\n",
              "  </thead>\n",
              "  <tbody>\n",
              "    <tr>\n",
              "      <th>0</th>\n",
              "      <td>A</td>\n",
              "      <td>Associado</td>\n",
              "      <td>F</td>\n",
              "      <td>Saúde e beleza</td>\n",
              "      <td>1120.35</td>\n",
              "      <td>7</td>\n",
              "      <td>7842.45</td>\n",
              "      <td>Janeiro</td>\n",
              "      <td>Tarde</td>\n",
              "      <td>PIX</td>\n",
              "      <td>4705.4700</td>\n",
              "      <td>91</td>\n",
              "      <td>3136.9800</td>\n",
              "    </tr>\n",
              "    <tr>\n",
              "      <th>1</th>\n",
              "      <td>C</td>\n",
              "      <td>Normal</td>\n",
              "      <td>F</td>\n",
              "      <td>Acessórios eletrônicos</td>\n",
              "      <td>229.20</td>\n",
              "      <td>5</td>\n",
              "      <td>1146.00</td>\n",
              "      <td>Março</td>\n",
              "      <td>Manhã</td>\n",
              "      <td>Dinheiro</td>\n",
              "      <td>1031.4000</td>\n",
              "      <td>96</td>\n",
              "      <td>114.6000</td>\n",
              "    </tr>\n",
              "    <tr>\n",
              "      <th>2</th>\n",
              "      <td>A</td>\n",
              "      <td>Normal</td>\n",
              "      <td>M</td>\n",
              "      <td>Casa e estilo de vida</td>\n",
              "      <td>694.95</td>\n",
              "      <td>7</td>\n",
              "      <td>4864.65</td>\n",
              "      <td>Março</td>\n",
              "      <td>Tarde</td>\n",
              "      <td>Cartão de Crédito</td>\n",
              "      <td>3405.2550</td>\n",
              "      <td>74</td>\n",
              "      <td>1459.3950</td>\n",
              "    </tr>\n",
              "    <tr>\n",
              "      <th>3</th>\n",
              "      <td>A</td>\n",
              "      <td>Associado</td>\n",
              "      <td>M</td>\n",
              "      <td>Saúde e beleza</td>\n",
              "      <td>873.30</td>\n",
              "      <td>8</td>\n",
              "      <td>6986.40</td>\n",
              "      <td>Janeiro</td>\n",
              "      <td>Noite</td>\n",
              "      <td>PIX</td>\n",
              "      <td>4191.8400</td>\n",
              "      <td>84</td>\n",
              "      <td>2794.5600</td>\n",
              "    </tr>\n",
              "    <tr>\n",
              "      <th>4</th>\n",
              "      <td>A</td>\n",
              "      <td>Normal</td>\n",
              "      <td>M</td>\n",
              "      <td>Esportes e viagens</td>\n",
              "      <td>1294.65</td>\n",
              "      <td>7</td>\n",
              "      <td>9062.55</td>\n",
              "      <td>Fevereiro</td>\n",
              "      <td>Manhã</td>\n",
              "      <td>PIX</td>\n",
              "      <td>6796.9125</td>\n",
              "      <td>53</td>\n",
              "      <td>2265.6375</td>\n",
              "    </tr>\n",
              "    <tr>\n",
              "      <th>...</th>\n",
              "      <td>...</td>\n",
              "      <td>...</td>\n",
              "      <td>...</td>\n",
              "      <td>...</td>\n",
              "      <td>...</td>\n",
              "      <td>...</td>\n",
              "      <td>...</td>\n",
              "      <td>...</td>\n",
              "      <td>...</td>\n",
              "      <td>...</td>\n",
              "      <td>...</td>\n",
              "      <td>...</td>\n",
              "      <td>...</td>\n",
              "    </tr>\n",
              "    <tr>\n",
              "      <th>995</th>\n",
              "      <td>C</td>\n",
              "      <td>Normal</td>\n",
              "      <td>M</td>\n",
              "      <td>Saúde e beleza</td>\n",
              "      <td>605.25</td>\n",
              "      <td>1</td>\n",
              "      <td>605.25</td>\n",
              "      <td>Janeiro</td>\n",
              "      <td>Tarde</td>\n",
              "      <td>PIX</td>\n",
              "      <td>363.1500</td>\n",
              "      <td>62</td>\n",
              "      <td>242.1000</td>\n",
              "    </tr>\n",
              "    <tr>\n",
              "      <th>996</th>\n",
              "      <td>B</td>\n",
              "      <td>Normal</td>\n",
              "      <td>F</td>\n",
              "      <td>Casa e estilo de vida</td>\n",
              "      <td>1460.70</td>\n",
              "      <td>10</td>\n",
              "      <td>14607.00</td>\n",
              "      <td>Março</td>\n",
              "      <td>Tarde</td>\n",
              "      <td>PIX</td>\n",
              "      <td>10224.9000</td>\n",
              "      <td>44</td>\n",
              "      <td>4382.1000</td>\n",
              "    </tr>\n",
              "    <tr>\n",
              "      <th>997</th>\n",
              "      <td>A</td>\n",
              "      <td>Associado</td>\n",
              "      <td>M</td>\n",
              "      <td>Comida e bebidas</td>\n",
              "      <td>477.60</td>\n",
              "      <td>1</td>\n",
              "      <td>477.60</td>\n",
              "      <td>Fevereiro</td>\n",
              "      <td>Tarde</td>\n",
              "      <td>Dinheiro</td>\n",
              "      <td>405.9600</td>\n",
              "      <td>77</td>\n",
              "      <td>71.6400</td>\n",
              "    </tr>\n",
              "    <tr>\n",
              "      <th>998</th>\n",
              "      <td>A</td>\n",
              "      <td>Normal</td>\n",
              "      <td>M</td>\n",
              "      <td>Casa e estilo de vida</td>\n",
              "      <td>987.30</td>\n",
              "      <td>1</td>\n",
              "      <td>987.30</td>\n",
              "      <td>Fevereiro</td>\n",
              "      <td>Tarde</td>\n",
              "      <td>Dinheiro</td>\n",
              "      <td>691.1100</td>\n",
              "      <td>41</td>\n",
              "      <td>296.1900</td>\n",
              "    </tr>\n",
              "    <tr>\n",
              "      <th>999</th>\n",
              "      <td>A</td>\n",
              "      <td>Associado</td>\n",
              "      <td>F</td>\n",
              "      <td>Acessórios fashions</td>\n",
              "      <td>1325.10</td>\n",
              "      <td>7</td>\n",
              "      <td>9275.70</td>\n",
              "      <td>Fevereiro</td>\n",
              "      <td>Tarde</td>\n",
              "      <td>Dinheiro</td>\n",
              "      <td>6956.7750</td>\n",
              "      <td>66</td>\n",
              "      <td>2318.9250</td>\n",
              "    </tr>\n",
              "  </tbody>\n",
              "</table>\n",
              "<p>1000 rows × 13 columns</p>\n",
              "</div>\n",
              "      <button class=\"colab-df-convert\" onclick=\"convertToInteractive('df-de12d34a-6485-4dfc-ad17-8664673dd79a')\"\n",
              "              title=\"Convert this dataframe to an interactive table.\"\n",
              "              style=\"display:none;\">\n",
              "        \n",
              "  <svg xmlns=\"http://www.w3.org/2000/svg\" height=\"24px\"viewBox=\"0 0 24 24\"\n",
              "       width=\"24px\">\n",
              "    <path d=\"M0 0h24v24H0V0z\" fill=\"none\"/>\n",
              "    <path d=\"M18.56 5.44l.94 2.06.94-2.06 2.06-.94-2.06-.94-.94-2.06-.94 2.06-2.06.94zm-11 1L8.5 8.5l.94-2.06 2.06-.94-2.06-.94L8.5 2.5l-.94 2.06-2.06.94zm10 10l.94 2.06.94-2.06 2.06-.94-2.06-.94-.94-2.06-.94 2.06-2.06.94z\"/><path d=\"M17.41 7.96l-1.37-1.37c-.4-.4-.92-.59-1.43-.59-.52 0-1.04.2-1.43.59L10.3 9.45l-7.72 7.72c-.78.78-.78 2.05 0 2.83L4 21.41c.39.39.9.59 1.41.59.51 0 1.02-.2 1.41-.59l7.78-7.78 2.81-2.81c.8-.78.8-2.07 0-2.86zM5.41 20L4 18.59l7.72-7.72 1.47 1.35L5.41 20z\"/>\n",
              "  </svg>\n",
              "      </button>\n",
              "      \n",
              "  <style>\n",
              "    .colab-df-container {\n",
              "      display:flex;\n",
              "      flex-wrap:wrap;\n",
              "      gap: 12px;\n",
              "    }\n",
              "\n",
              "    .colab-df-convert {\n",
              "      background-color: #E8F0FE;\n",
              "      border: none;\n",
              "      border-radius: 50%;\n",
              "      cursor: pointer;\n",
              "      display: none;\n",
              "      fill: #1967D2;\n",
              "      height: 32px;\n",
              "      padding: 0 0 0 0;\n",
              "      width: 32px;\n",
              "    }\n",
              "\n",
              "    .colab-df-convert:hover {\n",
              "      background-color: #E2EBFA;\n",
              "      box-shadow: 0px 1px 2px rgba(60, 64, 67, 0.3), 0px 1px 3px 1px rgba(60, 64, 67, 0.15);\n",
              "      fill: #174EA6;\n",
              "    }\n",
              "\n",
              "    [theme=dark] .colab-df-convert {\n",
              "      background-color: #3B4455;\n",
              "      fill: #D2E3FC;\n",
              "    }\n",
              "\n",
              "    [theme=dark] .colab-df-convert:hover {\n",
              "      background-color: #434B5C;\n",
              "      box-shadow: 0px 1px 3px 1px rgba(0, 0, 0, 0.15);\n",
              "      filter: drop-shadow(0px 1px 2px rgba(0, 0, 0, 0.3));\n",
              "      fill: #FFFFFF;\n",
              "    }\n",
              "  </style>\n",
              "\n",
              "      <script>\n",
              "        const buttonEl =\n",
              "          document.querySelector('#df-de12d34a-6485-4dfc-ad17-8664673dd79a button.colab-df-convert');\n",
              "        buttonEl.style.display =\n",
              "          google.colab.kernel.accessAllowed ? 'block' : 'none';\n",
              "\n",
              "        async function convertToInteractive(key) {\n",
              "          const element = document.querySelector('#df-de12d34a-6485-4dfc-ad17-8664673dd79a');\n",
              "          const dataTable =\n",
              "            await google.colab.kernel.invokeFunction('convertToInteractive',\n",
              "                                                     [key], {});\n",
              "          if (!dataTable) return;\n",
              "\n",
              "          const docLinkHtml = 'Like what you see? Visit the ' +\n",
              "            '<a target=\"_blank\" href=https://colab.research.google.com/notebooks/data_table.ipynb>data table notebook</a>'\n",
              "            + ' to learn more about interactive tables.';\n",
              "          element.innerHTML = '';\n",
              "          dataTable['output_type'] = 'display_data';\n",
              "          await google.colab.output.renderOutput(dataTable, element);\n",
              "          const docLink = document.createElement('div');\n",
              "          docLink.innerHTML = docLinkHtml;\n",
              "          element.appendChild(docLink);\n",
              "        }\n",
              "      </script>\n",
              "    </div>\n",
              "  </div>\n",
              "  "
            ]
          },
          "metadata": {},
          "execution_count": 887
        }
      ]
    },
    {
      "cell_type": "code",
      "source": [],
      "metadata": {
        "colab": {
          "base_uri": "https://localhost:8080/",
          "height": 329
        },
        "id": "sf2BrxR6T3wG",
        "outputId": "68d9f0ef-635b-4f85-b4af-d2f7a8b89626"
      },
      "execution_count": 888,
      "outputs": [
        {
          "output_type": "error",
          "ename": "KeyError",
          "evalue": "ignored",
          "traceback": [
            "\u001b[0;31m---------------------------------------------------------------------------\u001b[0m",
            "\u001b[0;31mKeyError\u001b[0m                                  Traceback (most recent call last)",
            "\u001b[0;32m<ipython-input-888-5a2791b26f0f>\u001b[0m in \u001b[0;36m<module>\u001b[0;34m\u001b[0m\n\u001b[0;32m----> 1\u001b[0;31m \u001b[0mdf\u001b[0m \u001b[0;34m=\u001b[0m \u001b[0mdf\u001b[0m\u001b[0;34m[\u001b[0m\u001b[0;34m[\u001b[0m\u001b[0;34m'Filial'\u001b[0m\u001b[0;34m,\u001b[0m \u001b[0;34m'Tipo do Cliente'\u001b[0m\u001b[0;34m,\u001b[0m \u001b[0;34m'Gênero'\u001b[0m\u001b[0;34m,\u001b[0m \u001b[0;34m'Linha de produto'\u001b[0m\u001b[0;34m,\u001b[0m \u001b[0;34m'Preço unitário'\u001b[0m\u001b[0;34m,\u001b[0m \u001b[0;34m'Quantidade'\u001b[0m\u001b[0;34m,\u001b[0m \u001b[0;34m'Total'\u001b[0m\u001b[0;34m,\u001b[0m \u001b[0;34m'Data'\u001b[0m\u001b[0;34m,\u001b[0m \u001b[0;34m'Horário'\u001b[0m\u001b[0;34m,\u001b[0m \u001b[0;34m'Pagamento'\u001b[0m\u001b[0;34m,\u001b[0m \u001b[0;34m'COGS'\u001b[0m\u001b[0;34m,\u001b[0m \u001b[0;34m'Lucro'\u001b[0m\u001b[0;34m,\u001b[0m \u001b[0;34m'Avaliação'\u001b[0m\u001b[0;34m]\u001b[0m\u001b[0;34m]\u001b[0m\u001b[0;34m\u001b[0m\u001b[0;34m\u001b[0m\u001b[0m\n\u001b[0m",
            "\u001b[0;32m/usr/local/lib/python3.9/dist-packages/pandas/core/frame.py\u001b[0m in \u001b[0;36m__getitem__\u001b[0;34m(self, key)\u001b[0m\n\u001b[1;32m   3509\u001b[0m             \u001b[0;32mif\u001b[0m \u001b[0mis_iterator\u001b[0m\u001b[0;34m(\u001b[0m\u001b[0mkey\u001b[0m\u001b[0;34m)\u001b[0m\u001b[0;34m:\u001b[0m\u001b[0;34m\u001b[0m\u001b[0;34m\u001b[0m\u001b[0m\n\u001b[1;32m   3510\u001b[0m                 \u001b[0mkey\u001b[0m \u001b[0;34m=\u001b[0m \u001b[0mlist\u001b[0m\u001b[0;34m(\u001b[0m\u001b[0mkey\u001b[0m\u001b[0;34m)\u001b[0m\u001b[0;34m\u001b[0m\u001b[0;34m\u001b[0m\u001b[0m\n\u001b[0;32m-> 3511\u001b[0;31m             \u001b[0mindexer\u001b[0m \u001b[0;34m=\u001b[0m \u001b[0mself\u001b[0m\u001b[0;34m.\u001b[0m\u001b[0mcolumns\u001b[0m\u001b[0;34m.\u001b[0m\u001b[0m_get_indexer_strict\u001b[0m\u001b[0;34m(\u001b[0m\u001b[0mkey\u001b[0m\u001b[0;34m,\u001b[0m \u001b[0;34m\"columns\"\u001b[0m\u001b[0;34m)\u001b[0m\u001b[0;34m[\u001b[0m\u001b[0;36m1\u001b[0m\u001b[0;34m]\u001b[0m\u001b[0;34m\u001b[0m\u001b[0;34m\u001b[0m\u001b[0m\n\u001b[0m\u001b[1;32m   3512\u001b[0m \u001b[0;34m\u001b[0m\u001b[0m\n\u001b[1;32m   3513\u001b[0m         \u001b[0;31m# take() does not accept boolean indexers\u001b[0m\u001b[0;34m\u001b[0m\u001b[0;34m\u001b[0m\u001b[0m\n",
            "\u001b[0;32m/usr/local/lib/python3.9/dist-packages/pandas/core/indexes/base.py\u001b[0m in \u001b[0;36m_get_indexer_strict\u001b[0;34m(self, key, axis_name)\u001b[0m\n\u001b[1;32m   5794\u001b[0m             \u001b[0mkeyarr\u001b[0m\u001b[0;34m,\u001b[0m \u001b[0mindexer\u001b[0m\u001b[0;34m,\u001b[0m \u001b[0mnew_indexer\u001b[0m \u001b[0;34m=\u001b[0m \u001b[0mself\u001b[0m\u001b[0;34m.\u001b[0m\u001b[0m_reindex_non_unique\u001b[0m\u001b[0;34m(\u001b[0m\u001b[0mkeyarr\u001b[0m\u001b[0;34m)\u001b[0m\u001b[0;34m\u001b[0m\u001b[0;34m\u001b[0m\u001b[0m\n\u001b[1;32m   5795\u001b[0m \u001b[0;34m\u001b[0m\u001b[0m\n\u001b[0;32m-> 5796\u001b[0;31m         \u001b[0mself\u001b[0m\u001b[0;34m.\u001b[0m\u001b[0m_raise_if_missing\u001b[0m\u001b[0;34m(\u001b[0m\u001b[0mkeyarr\u001b[0m\u001b[0;34m,\u001b[0m \u001b[0mindexer\u001b[0m\u001b[0;34m,\u001b[0m \u001b[0maxis_name\u001b[0m\u001b[0;34m)\u001b[0m\u001b[0;34m\u001b[0m\u001b[0;34m\u001b[0m\u001b[0m\n\u001b[0m\u001b[1;32m   5797\u001b[0m \u001b[0;34m\u001b[0m\u001b[0m\n\u001b[1;32m   5798\u001b[0m         \u001b[0mkeyarr\u001b[0m \u001b[0;34m=\u001b[0m \u001b[0mself\u001b[0m\u001b[0;34m.\u001b[0m\u001b[0mtake\u001b[0m\u001b[0;34m(\u001b[0m\u001b[0mindexer\u001b[0m\u001b[0;34m)\u001b[0m\u001b[0;34m\u001b[0m\u001b[0;34m\u001b[0m\u001b[0m\n",
            "\u001b[0;32m/usr/local/lib/python3.9/dist-packages/pandas/core/indexes/base.py\u001b[0m in \u001b[0;36m_raise_if_missing\u001b[0;34m(self, key, indexer, axis_name)\u001b[0m\n\u001b[1;32m   5857\u001b[0m \u001b[0;34m\u001b[0m\u001b[0m\n\u001b[1;32m   5858\u001b[0m             \u001b[0mnot_found\u001b[0m \u001b[0;34m=\u001b[0m \u001b[0mlist\u001b[0m\u001b[0;34m(\u001b[0m\u001b[0mensure_index\u001b[0m\u001b[0;34m(\u001b[0m\u001b[0mkey\u001b[0m\u001b[0;34m)\u001b[0m\u001b[0;34m[\u001b[0m\u001b[0mmissing_mask\u001b[0m\u001b[0;34m.\u001b[0m\u001b[0mnonzero\u001b[0m\u001b[0;34m(\u001b[0m\u001b[0;34m)\u001b[0m\u001b[0;34m[\u001b[0m\u001b[0;36m0\u001b[0m\u001b[0;34m]\u001b[0m\u001b[0;34m]\u001b[0m\u001b[0;34m.\u001b[0m\u001b[0munique\u001b[0m\u001b[0;34m(\u001b[0m\u001b[0;34m)\u001b[0m\u001b[0;34m)\u001b[0m\u001b[0;34m\u001b[0m\u001b[0;34m\u001b[0m\u001b[0m\n\u001b[0;32m-> 5859\u001b[0;31m             \u001b[0;32mraise\u001b[0m \u001b[0mKeyError\u001b[0m\u001b[0;34m(\u001b[0m\u001b[0;34mf\"{not_found} not in index\"\u001b[0m\u001b[0;34m)\u001b[0m\u001b[0;34m\u001b[0m\u001b[0;34m\u001b[0m\u001b[0m\n\u001b[0m\u001b[1;32m   5860\u001b[0m \u001b[0;34m\u001b[0m\u001b[0m\n\u001b[1;32m   5861\u001b[0m     \u001b[0;34m@\u001b[0m\u001b[0moverload\u001b[0m\u001b[0;34m\u001b[0m\u001b[0;34m\u001b[0m\u001b[0m\n",
            "\u001b[0;31mKeyError\u001b[0m: \"['Tipo do Cliente'] not in index\""
          ]
        }
      ]
    },
    {
      "cell_type": "code",
      "source": [
        "#Trazer o lucro para a penúltima coluna."
      ],
      "metadata": {
        "id": "b_sk0FK0r47A"
      },
      "execution_count": null,
      "outputs": []
    },
    {
      "cell_type": "markdown",
      "source": [
        "Reorganize a coluna Lucro antes de Avaliação.\n",
        "\n",
        "\n",
        "# Qual linha de produto da mais lucro?\n",
        "Casa e estilo de vida."
      ],
      "metadata": {
        "id": "gl6MpQI-GfuR"
      }
    }
  ]
}